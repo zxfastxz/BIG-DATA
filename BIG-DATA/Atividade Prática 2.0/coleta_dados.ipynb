{
 "cells": [
  {
   "cell_type": "markdown",
   "id": "98d8b32a",
   "metadata": {},
   "source": [
    "<h2>Coleta De Dados</h2>\n",
    "\n",
    "<h3> Estoque Chaves pix / Transações pix</h3>"
   ]
  },
  {
   "cell_type": "code",
   "execution_count": 83,
   "id": "eea95f16",
   "metadata": {},
   "outputs": [],
   "source": [
    "import pandas as pd\n",
    "import requests\n",
    "import json\n",
    "import matplotlib.pyplot as plt"
   ]
  },
  {
   "cell_type": "code",
   "execution_count": 84,
   "id": "29f4de2f",
   "metadata": {},
   "outputs": [],
   "source": [
    "def coletar_transacoes_pix():\n",
    "    url = \"https://olinda.bcb.gov.br/olinda/servico/Pix_DadosAbertos/versao/v1/odata/TransacoesPixPorMunicipio(DataBase=@DataBase)?@DataBase='2023'&$top=200&$format=json&$select=AnoMes,Municipio_Ibge,Municipio,Estado_Ibge,Estado,Sigla_Regiao,Regiao,VL_PagadorPF,QT_PagadorPF,VL_PagadorPJ,QT_PagadorPJ,VL_RecebedorPF,QT_RecebedorPF,VL_RecebedorPJ,QT_RecebedorPJ,QT_PES_PagadorPF,QT_PES_PagadorPJ,QT_PES_RecebedorPF,QT_PES_RecebedorPJ\"\n",
    "    \n",
    "    resposta = requests.get(url)\n",
    "    dados = resposta.json().get(\"value\", [])\n",
    "    \n",
    "    with open(\"transacoes_pix.json\", \"w\", encoding=\"utf-8\") as f:\n",
    "        json.dump(dados, f, ensure_ascii=False, indent=4)\n",
    "    \n",
    "    df = pd.json_normalize(dados)\n",
    "    return df"
   ]
  },
  {
   "cell_type": "code",
   "execution_count": 85,
   "id": "b161af29",
   "metadata": {},
   "outputs": [],
   "source": [
    "def coletar_chaves_pix():\n",
    "    url = \"https://olinda.bcb.gov.br/olinda/servico/Pix_DadosAbertos/versao/v1/odata/ChavesPix(Data=@Data)?@Data='2023-01-01'&$top=200&$format=json&$select=Data,ISPB,Nome,NaturezaUsuario,TipoChave,qtdChaves\"\n",
    "    \n",
    "    resposta = requests.get(url)\n",
    "    dados = resposta.json().get(\"value\", [])\n",
    "    \n",
    "    with open(\"estoque_chaves_pix.json\", \"w\", encoding=\"utf-8\") as f:\n",
    "        json.dump(dados, f, ensure_ascii=False, indent=4)\n",
    "    \n",
    "    df = pd.json_normalize(dados)\n",
    "    return df\n"
   ]
  },
  {
   "cell_type": "code",
   "execution_count": 86,
   "id": "a8f1934e",
   "metadata": {},
   "outputs": [],
   "source": [
    "df_transacoes.to_csv(\"transacoes_pix_estruturadas.csv\", index=False, encoding=\"utf-8-sig\")"
   ]
  },
  {
   "cell_type": "code",
   "execution_count": 87,
   "id": "8edbed9b",
   "metadata": {},
   "outputs": [],
   "source": [
    "df_transacoes = coletar_transacoes_pix()"
   ]
  },
  {
   "cell_type": "code",
   "execution_count": 88,
   "id": "d5da4da3",
   "metadata": {},
   "outputs": [
    {
     "data": {
      "text/plain": [
       "Index(['AnoMes', 'Municipio_Ibge', 'Municipio', 'Estado_Ibge', 'Estado',\n",
       "       'Sigla_Regiao', 'Regiao', 'VL_PagadorPF', 'QT_PagadorPF',\n",
       "       'VL_PagadorPJ', 'QT_PagadorPJ', 'VL_RecebedorPF', 'QT_RecebedorPF',\n",
       "       'VL_RecebedorPJ', 'QT_RecebedorPJ', 'QT_PES_PagadorPF',\n",
       "       'QT_PES_PagadorPJ', 'QT_PES_RecebedorPF', 'QT_PES_RecebedorPJ'],\n",
       "      dtype='object')"
      ]
     },
     "execution_count": 88,
     "metadata": {},
     "output_type": "execute_result"
    }
   ],
   "source": [
    "df_transacoes.shape\n",
    "df_transacoes.columns\n"
   ]
  },
  {
   "cell_type": "code",
   "execution_count": 89,
   "id": "e22ab304",
   "metadata": {},
   "outputs": [
    {
     "data": {
      "application/vnd.microsoft.datawrangler.viewer.v0+json": {
       "columns": [
        {
         "name": "index",
         "rawType": "int64",
         "type": "integer"
        },
        {
         "name": "AnoMes",
         "rawType": "int64",
         "type": "integer"
        },
        {
         "name": "Municipio_Ibge",
         "rawType": "int64",
         "type": "integer"
        },
        {
         "name": "Municipio",
         "rawType": "object",
         "type": "string"
        },
        {
         "name": "Estado_Ibge",
         "rawType": "int64",
         "type": "integer"
        },
        {
         "name": "Estado",
         "rawType": "object",
         "type": "string"
        },
        {
         "name": "Sigla_Regiao",
         "rawType": "object",
         "type": "string"
        },
        {
         "name": "Regiao",
         "rawType": "object",
         "type": "string"
        },
        {
         "name": "VL_PagadorPF",
         "rawType": "float64",
         "type": "float"
        },
        {
         "name": "QT_PagadorPF",
         "rawType": "int64",
         "type": "integer"
        },
        {
         "name": "VL_PagadorPJ",
         "rawType": "float64",
         "type": "float"
        },
        {
         "name": "QT_PagadorPJ",
         "rawType": "int64",
         "type": "integer"
        },
        {
         "name": "VL_RecebedorPF",
         "rawType": "float64",
         "type": "float"
        },
        {
         "name": "QT_RecebedorPF",
         "rawType": "int64",
         "type": "integer"
        },
        {
         "name": "VL_RecebedorPJ",
         "rawType": "float64",
         "type": "float"
        },
        {
         "name": "QT_RecebedorPJ",
         "rawType": "int64",
         "type": "integer"
        },
        {
         "name": "QT_PES_PagadorPF",
         "rawType": "int64",
         "type": "integer"
        },
        {
         "name": "QT_PES_PagadorPJ",
         "rawType": "int64",
         "type": "integer"
        },
        {
         "name": "QT_PES_RecebedorPF",
         "rawType": "int64",
         "type": "integer"
        },
        {
         "name": "QT_PES_RecebedorPJ",
         "rawType": "int64",
         "type": "integer"
        }
       ],
       "ref": "57441ec2-91b6-483c-b6b7-4761621b8473",
       "rows": [
        [
         "0",
         "202202",
         "2604304",
         "CEDRO",
         "26",
         "PERNAMBUCO",
         "NE",
         "NORDESTE",
         "8671955.89",
         "41908",
         "1037543.56",
         "796",
         "8400211.51",
         "35966",
         "1114567.27",
         "2260",
         "3339",
         "68",
         "3351",
         "72"
        ],
        [
         "1",
         "202309",
         "2604304",
         "CEDRO",
         "26",
         "PERNAMBUCO",
         "NE",
         "NORDESTE",
         "21712918.56",
         "143723",
         "3360010.27",
         "2183",
         "20799003.54",
         "104352",
         "4303659.61",
         "7945",
         "5631",
         "106",
         "5487",
         "115"
        ],
        [
         "2",
         "202509",
         "2604304",
         "CEDRO",
         "26",
         "PERNAMBUCO",
         "NE",
         "NORDESTE",
         "4524066.98",
         "27084",
         "398174.97",
         "933",
         "4254170.88",
         "17912",
         "725528.66",
         "3400",
         "5028",
         "103",
         "3998",
         "121"
        ],
        [
         "3",
         "202208",
         "5002902",
         "CASSILÂNDIA",
         "50",
         "MATO GROSSO DO SUL",
         "CO",
         "CENTRO-OESTE",
         "47907459.4",
         "124901",
         "24035863.87",
         "11845",
         "41591859.67",
         "102074",
         "23533438.19",
         "28051",
         "9240",
         "658",
         "9187",
         "671"
        ],
        [
         "4",
         "202106",
         "2102077",
         "BOM LUGAR",
         "21",
         "MARANHÃO",
         "NE",
         "NORDESTE",
         "2765226.89",
         "8430",
         "626668.16",
         "184",
         "3196409.32",
         "8861",
         "63044.9",
         "226",
         "1215",
         "30",
         "1201",
         "22"
        ],
        [
         "5",
         "202107",
         "2604304",
         "CEDRO",
         "26",
         "PERNAMBUCO",
         "NE",
         "NORDESTE",
         "5601693.5",
         "23008",
         "552276.26",
         "335",
         "5451239.53",
         "23787",
         "421508.75",
         "757",
         "2438",
         "43",
         "2542",
         "52"
        ],
        [
         "6",
         "202211",
         "5002902",
         "CASSILÂNDIA",
         "50",
         "MATO GROSSO DO SUL",
         "CO",
         "CENTRO-OESTE",
         "45179633.78",
         "141504",
         "21005865.44",
         "12916",
         "42443470.42",
         "110935",
         "22693905.06",
         "32366",
         "9767",
         "682",
         "9780",
         "697"
        ],
        [
         "7",
         "202308",
         "2706802",
         "PIAÇABUÇU",
         "27",
         "ALAGOAS",
         "NE",
         "NORDESTE",
         "30447425.17",
         "218370",
         "5111454.33",
         "4985",
         "29113213.68",
         "166323",
         "6633372.05",
         "18470",
         "8148",
         "163",
         "8060",
         "156"
        ],
        [
         "8",
         "202206",
         "1701903",
         "ARAGUACEMA",
         "17",
         "TOCANTINS",
         "NO",
         "NORTE",
         "8565708.2",
         "33696",
         "2800934.02",
         "1484",
         "8602578.4",
         "28361",
         "1024271.68",
         "2672",
         "2253",
         "73",
         "2283",
         "69"
        ],
        [
         "9",
         "202307",
         "5002902",
         "CASSILÂNDIA",
         "50",
         "MATO GROSSO DO SUL",
         "CO",
         "CENTRO-OESTE",
         "52193026.61",
         "216761",
         "20160318.59",
         "17818",
         "59991747.57",
         "149144",
         "20516875.37",
         "49978",
         "11106",
         "780",
         "11113",
         "805"
        ]
       ],
       "shape": {
        "columns": 19,
        "rows": 10
       }
      },
      "text/html": [
       "<div>\n",
       "<style scoped>\n",
       "    .dataframe tbody tr th:only-of-type {\n",
       "        vertical-align: middle;\n",
       "    }\n",
       "\n",
       "    .dataframe tbody tr th {\n",
       "        vertical-align: top;\n",
       "    }\n",
       "\n",
       "    .dataframe thead th {\n",
       "        text-align: right;\n",
       "    }\n",
       "</style>\n",
       "<table border=\"1\" class=\"dataframe\">\n",
       "  <thead>\n",
       "    <tr style=\"text-align: right;\">\n",
       "      <th></th>\n",
       "      <th>AnoMes</th>\n",
       "      <th>Municipio_Ibge</th>\n",
       "      <th>Municipio</th>\n",
       "      <th>Estado_Ibge</th>\n",
       "      <th>Estado</th>\n",
       "      <th>Sigla_Regiao</th>\n",
       "      <th>Regiao</th>\n",
       "      <th>VL_PagadorPF</th>\n",
       "      <th>QT_PagadorPF</th>\n",
       "      <th>VL_PagadorPJ</th>\n",
       "      <th>QT_PagadorPJ</th>\n",
       "      <th>VL_RecebedorPF</th>\n",
       "      <th>QT_RecebedorPF</th>\n",
       "      <th>VL_RecebedorPJ</th>\n",
       "      <th>QT_RecebedorPJ</th>\n",
       "      <th>QT_PES_PagadorPF</th>\n",
       "      <th>QT_PES_PagadorPJ</th>\n",
       "      <th>QT_PES_RecebedorPF</th>\n",
       "      <th>QT_PES_RecebedorPJ</th>\n",
       "    </tr>\n",
       "  </thead>\n",
       "  <tbody>\n",
       "    <tr>\n",
       "      <th>0</th>\n",
       "      <td>202202</td>\n",
       "      <td>2604304</td>\n",
       "      <td>CEDRO</td>\n",
       "      <td>26</td>\n",
       "      <td>PERNAMBUCO</td>\n",
       "      <td>NE</td>\n",
       "      <td>NORDESTE</td>\n",
       "      <td>8671955.89</td>\n",
       "      <td>41908</td>\n",
       "      <td>1037543.56</td>\n",
       "      <td>796</td>\n",
       "      <td>8400211.51</td>\n",
       "      <td>35966</td>\n",
       "      <td>1114567.27</td>\n",
       "      <td>2260</td>\n",
       "      <td>3339</td>\n",
       "      <td>68</td>\n",
       "      <td>3351</td>\n",
       "      <td>72</td>\n",
       "    </tr>\n",
       "    <tr>\n",
       "      <th>1</th>\n",
       "      <td>202309</td>\n",
       "      <td>2604304</td>\n",
       "      <td>CEDRO</td>\n",
       "      <td>26</td>\n",
       "      <td>PERNAMBUCO</td>\n",
       "      <td>NE</td>\n",
       "      <td>NORDESTE</td>\n",
       "      <td>21712918.56</td>\n",
       "      <td>143723</td>\n",
       "      <td>3360010.27</td>\n",
       "      <td>2183</td>\n",
       "      <td>20799003.54</td>\n",
       "      <td>104352</td>\n",
       "      <td>4303659.61</td>\n",
       "      <td>7945</td>\n",
       "      <td>5631</td>\n",
       "      <td>106</td>\n",
       "      <td>5487</td>\n",
       "      <td>115</td>\n",
       "    </tr>\n",
       "    <tr>\n",
       "      <th>2</th>\n",
       "      <td>202509</td>\n",
       "      <td>2604304</td>\n",
       "      <td>CEDRO</td>\n",
       "      <td>26</td>\n",
       "      <td>PERNAMBUCO</td>\n",
       "      <td>NE</td>\n",
       "      <td>NORDESTE</td>\n",
       "      <td>4524066.98</td>\n",
       "      <td>27084</td>\n",
       "      <td>398174.97</td>\n",
       "      <td>933</td>\n",
       "      <td>4254170.88</td>\n",
       "      <td>17912</td>\n",
       "      <td>725528.66</td>\n",
       "      <td>3400</td>\n",
       "      <td>5028</td>\n",
       "      <td>103</td>\n",
       "      <td>3998</td>\n",
       "      <td>121</td>\n",
       "    </tr>\n",
       "    <tr>\n",
       "      <th>3</th>\n",
       "      <td>202208</td>\n",
       "      <td>5002902</td>\n",
       "      <td>CASSILÂNDIA</td>\n",
       "      <td>50</td>\n",
       "      <td>MATO GROSSO DO SUL</td>\n",
       "      <td>CO</td>\n",
       "      <td>CENTRO-OESTE</td>\n",
       "      <td>47907459.40</td>\n",
       "      <td>124901</td>\n",
       "      <td>24035863.87</td>\n",
       "      <td>11845</td>\n",
       "      <td>41591859.67</td>\n",
       "      <td>102074</td>\n",
       "      <td>23533438.19</td>\n",
       "      <td>28051</td>\n",
       "      <td>9240</td>\n",
       "      <td>658</td>\n",
       "      <td>9187</td>\n",
       "      <td>671</td>\n",
       "    </tr>\n",
       "    <tr>\n",
       "      <th>4</th>\n",
       "      <td>202106</td>\n",
       "      <td>2102077</td>\n",
       "      <td>BOM LUGAR</td>\n",
       "      <td>21</td>\n",
       "      <td>MARANHÃO</td>\n",
       "      <td>NE</td>\n",
       "      <td>NORDESTE</td>\n",
       "      <td>2765226.89</td>\n",
       "      <td>8430</td>\n",
       "      <td>626668.16</td>\n",
       "      <td>184</td>\n",
       "      <td>3196409.32</td>\n",
       "      <td>8861</td>\n",
       "      <td>63044.90</td>\n",
       "      <td>226</td>\n",
       "      <td>1215</td>\n",
       "      <td>30</td>\n",
       "      <td>1201</td>\n",
       "      <td>22</td>\n",
       "    </tr>\n",
       "    <tr>\n",
       "      <th>5</th>\n",
       "      <td>202107</td>\n",
       "      <td>2604304</td>\n",
       "      <td>CEDRO</td>\n",
       "      <td>26</td>\n",
       "      <td>PERNAMBUCO</td>\n",
       "      <td>NE</td>\n",
       "      <td>NORDESTE</td>\n",
       "      <td>5601693.50</td>\n",
       "      <td>23008</td>\n",
       "      <td>552276.26</td>\n",
       "      <td>335</td>\n",
       "      <td>5451239.53</td>\n",
       "      <td>23787</td>\n",
       "      <td>421508.75</td>\n",
       "      <td>757</td>\n",
       "      <td>2438</td>\n",
       "      <td>43</td>\n",
       "      <td>2542</td>\n",
       "      <td>52</td>\n",
       "    </tr>\n",
       "    <tr>\n",
       "      <th>6</th>\n",
       "      <td>202211</td>\n",
       "      <td>5002902</td>\n",
       "      <td>CASSILÂNDIA</td>\n",
       "      <td>50</td>\n",
       "      <td>MATO GROSSO DO SUL</td>\n",
       "      <td>CO</td>\n",
       "      <td>CENTRO-OESTE</td>\n",
       "      <td>45179633.78</td>\n",
       "      <td>141504</td>\n",
       "      <td>21005865.44</td>\n",
       "      <td>12916</td>\n",
       "      <td>42443470.42</td>\n",
       "      <td>110935</td>\n",
       "      <td>22693905.06</td>\n",
       "      <td>32366</td>\n",
       "      <td>9767</td>\n",
       "      <td>682</td>\n",
       "      <td>9780</td>\n",
       "      <td>697</td>\n",
       "    </tr>\n",
       "    <tr>\n",
       "      <th>7</th>\n",
       "      <td>202308</td>\n",
       "      <td>2706802</td>\n",
       "      <td>PIAÇABUÇU</td>\n",
       "      <td>27</td>\n",
       "      <td>ALAGOAS</td>\n",
       "      <td>NE</td>\n",
       "      <td>NORDESTE</td>\n",
       "      <td>30447425.17</td>\n",
       "      <td>218370</td>\n",
       "      <td>5111454.33</td>\n",
       "      <td>4985</td>\n",
       "      <td>29113213.68</td>\n",
       "      <td>166323</td>\n",
       "      <td>6633372.05</td>\n",
       "      <td>18470</td>\n",
       "      <td>8148</td>\n",
       "      <td>163</td>\n",
       "      <td>8060</td>\n",
       "      <td>156</td>\n",
       "    </tr>\n",
       "    <tr>\n",
       "      <th>8</th>\n",
       "      <td>202206</td>\n",
       "      <td>1701903</td>\n",
       "      <td>ARAGUACEMA</td>\n",
       "      <td>17</td>\n",
       "      <td>TOCANTINS</td>\n",
       "      <td>NO</td>\n",
       "      <td>NORTE</td>\n",
       "      <td>8565708.20</td>\n",
       "      <td>33696</td>\n",
       "      <td>2800934.02</td>\n",
       "      <td>1484</td>\n",
       "      <td>8602578.40</td>\n",
       "      <td>28361</td>\n",
       "      <td>1024271.68</td>\n",
       "      <td>2672</td>\n",
       "      <td>2253</td>\n",
       "      <td>73</td>\n",
       "      <td>2283</td>\n",
       "      <td>69</td>\n",
       "    </tr>\n",
       "    <tr>\n",
       "      <th>9</th>\n",
       "      <td>202307</td>\n",
       "      <td>5002902</td>\n",
       "      <td>CASSILÂNDIA</td>\n",
       "      <td>50</td>\n",
       "      <td>MATO GROSSO DO SUL</td>\n",
       "      <td>CO</td>\n",
       "      <td>CENTRO-OESTE</td>\n",
       "      <td>52193026.61</td>\n",
       "      <td>216761</td>\n",
       "      <td>20160318.59</td>\n",
       "      <td>17818</td>\n",
       "      <td>59991747.57</td>\n",
       "      <td>149144</td>\n",
       "      <td>20516875.37</td>\n",
       "      <td>49978</td>\n",
       "      <td>11106</td>\n",
       "      <td>780</td>\n",
       "      <td>11113</td>\n",
       "      <td>805</td>\n",
       "    </tr>\n",
       "  </tbody>\n",
       "</table>\n",
       "</div>"
      ],
      "text/plain": [
       "   AnoMes  Municipio_Ibge    Municipio  Estado_Ibge              Estado  \\\n",
       "0  202202         2604304        CEDRO           26          PERNAMBUCO   \n",
       "1  202309         2604304        CEDRO           26          PERNAMBUCO   \n",
       "2  202509         2604304        CEDRO           26          PERNAMBUCO   \n",
       "3  202208         5002902  CASSILÂNDIA           50  MATO GROSSO DO SUL   \n",
       "4  202106         2102077    BOM LUGAR           21            MARANHÃO   \n",
       "5  202107         2604304        CEDRO           26          PERNAMBUCO   \n",
       "6  202211         5002902  CASSILÂNDIA           50  MATO GROSSO DO SUL   \n",
       "7  202308         2706802    PIAÇABUÇU           27             ALAGOAS   \n",
       "8  202206         1701903   ARAGUACEMA           17           TOCANTINS   \n",
       "9  202307         5002902  CASSILÂNDIA           50  MATO GROSSO DO SUL   \n",
       "\n",
       "  Sigla_Regiao        Regiao  VL_PagadorPF  QT_PagadorPF  VL_PagadorPJ  \\\n",
       "0           NE      NORDESTE    8671955.89         41908    1037543.56   \n",
       "1           NE      NORDESTE   21712918.56        143723    3360010.27   \n",
       "2           NE      NORDESTE    4524066.98         27084     398174.97   \n",
       "3           CO  CENTRO-OESTE   47907459.40        124901   24035863.87   \n",
       "4           NE      NORDESTE    2765226.89          8430     626668.16   \n",
       "5           NE      NORDESTE    5601693.50         23008     552276.26   \n",
       "6           CO  CENTRO-OESTE   45179633.78        141504   21005865.44   \n",
       "7           NE      NORDESTE   30447425.17        218370    5111454.33   \n",
       "8           NO         NORTE    8565708.20         33696    2800934.02   \n",
       "9           CO  CENTRO-OESTE   52193026.61        216761   20160318.59   \n",
       "\n",
       "   QT_PagadorPJ  VL_RecebedorPF  QT_RecebedorPF  VL_RecebedorPJ  \\\n",
       "0           796      8400211.51           35966      1114567.27   \n",
       "1          2183     20799003.54          104352      4303659.61   \n",
       "2           933      4254170.88           17912       725528.66   \n",
       "3         11845     41591859.67          102074     23533438.19   \n",
       "4           184      3196409.32            8861        63044.90   \n",
       "5           335      5451239.53           23787       421508.75   \n",
       "6         12916     42443470.42          110935     22693905.06   \n",
       "7          4985     29113213.68          166323      6633372.05   \n",
       "8          1484      8602578.40           28361      1024271.68   \n",
       "9         17818     59991747.57          149144     20516875.37   \n",
       "\n",
       "   QT_RecebedorPJ  QT_PES_PagadorPF  QT_PES_PagadorPJ  QT_PES_RecebedorPF  \\\n",
       "0            2260              3339                68                3351   \n",
       "1            7945              5631               106                5487   \n",
       "2            3400              5028               103                3998   \n",
       "3           28051              9240               658                9187   \n",
       "4             226              1215                30                1201   \n",
       "5             757              2438                43                2542   \n",
       "6           32366              9767               682                9780   \n",
       "7           18470              8148               163                8060   \n",
       "8            2672              2253                73                2283   \n",
       "9           49978             11106               780               11113   \n",
       "\n",
       "   QT_PES_RecebedorPJ  \n",
       "0                  72  \n",
       "1                 115  \n",
       "2                 121  \n",
       "3                 671  \n",
       "4                  22  \n",
       "5                  52  \n",
       "6                 697  \n",
       "7                 156  \n",
       "8                  69  \n",
       "9                 805  "
      ]
     },
     "execution_count": 89,
     "metadata": {},
     "output_type": "execute_result"
    }
   ],
   "source": [
    "df_transacoes.head(10) \n"
   ]
  },
  {
   "cell_type": "code",
   "execution_count": 90,
   "id": "ec922c12",
   "metadata": {},
   "outputs": [
    {
     "data": {
      "application/vnd.microsoft.datawrangler.viewer.v0+json": {
       "columns": [
        {
         "name": "index",
         "rawType": "object",
         "type": "string"
        },
        {
         "name": "AnoMes",
         "rawType": "float64",
         "type": "float"
        },
        {
         "name": "Municipio_Ibge",
         "rawType": "float64",
         "type": "float"
        },
        {
         "name": "Estado_Ibge",
         "rawType": "float64",
         "type": "float"
        },
        {
         "name": "VL_PagadorPF",
         "rawType": "float64",
         "type": "float"
        },
        {
         "name": "QT_PagadorPF",
         "rawType": "float64",
         "type": "float"
        },
        {
         "name": "VL_PagadorPJ",
         "rawType": "float64",
         "type": "float"
        },
        {
         "name": "QT_PagadorPJ",
         "rawType": "float64",
         "type": "float"
        },
        {
         "name": "VL_RecebedorPF",
         "rawType": "float64",
         "type": "float"
        },
        {
         "name": "QT_RecebedorPF",
         "rawType": "float64",
         "type": "float"
        },
        {
         "name": "VL_RecebedorPJ",
         "rawType": "float64",
         "type": "float"
        },
        {
         "name": "QT_RecebedorPJ",
         "rawType": "float64",
         "type": "float"
        },
        {
         "name": "QT_PES_PagadorPF",
         "rawType": "float64",
         "type": "float"
        },
        {
         "name": "QT_PES_PagadorPJ",
         "rawType": "float64",
         "type": "float"
        },
        {
         "name": "QT_PES_RecebedorPF",
         "rawType": "float64",
         "type": "float"
        },
        {
         "name": "QT_PES_RecebedorPJ",
         "rawType": "float64",
         "type": "float"
        }
       ],
       "ref": "7199b66b-c17a-4480-bf7a-7a011cdcf3f9",
       "rows": [
        [
         "count",
         "200.0",
         "200.0",
         "200.0",
         "200.0",
         "200.0",
         "200.0",
         "200.0",
         "200.0",
         "200.0",
         "200.0",
         "200.0",
         "200.0",
         "200.0",
         "200.0",
         "200.0"
        ],
        [
         "mean",
         "202283.685",
         "2874719.175",
         "28.7",
         "21425959.259450004",
         "114667.265",
         "6907734.3819",
         "5134.85",
         "20868478.45205",
         "75112.215",
         "6857556.0041",
         "15436.87",
         "4670.82",
         "199.715",
         "4620.655",
         "198.73"
        ],
        [
         "std",
         "146.07885175359314",
         "1032504.3627388205",
         "10.32243981910747",
         "21394693.330511022",
         "107003.60559798732",
         "11852090.193741437",
         "7917.868726072476",
         "21636562.21006265",
         "64084.59264386743",
         "11518297.526992045",
         "23410.26224489967",
         "3498.0875489473533",
         "282.1249834852147",
         "3441.0884666266215",
         "279.6925575228421"
        ],
        [
         "min",
         "202011.0",
         "1701903.0",
         "17.0",
         "77816.12",
         "202.0",
         "300.0",
         "1.0",
         "79105.17",
         "182.0",
         "400.0",
         "2.0",
         "85.0",
         "1.0",
         "86.0",
         "2.0"
        ],
        [
         "25%",
         "202112.0",
         "2111029.0",
         "21.0",
         "6069973.8225",
         "26299.0",
         "946761.28",
         "791.75",
         "6043088.567500001",
         "21389.0",
         "971298.8775000001",
         "1655.5",
         "2393.75",
         "57.75",
         "2361.25",
         "55.75"
        ],
        [
         "50%",
         "202304.0",
         "2601003.0",
         "26.0",
         "14849259.275",
         "91097.5",
         "2091049.765",
         "1834.0",
         "14530617.625",
         "58765.0",
         "2314636.255",
         "6038.0",
         "4085.0",
         "89.5",
         "3953.5",
         "86.0"
        ],
        [
         "75%",
         "202407.25",
         "2807204.0",
         "28.0",
         "30752833.142500002",
         "173654.25",
         "5464544.3925",
         "5399.0",
         "28401539.564999998",
         "111122.5",
         "5747862.85",
         "18212.75",
         "5917.75",
         "165.75",
         "5769.25",
         "165.25"
        ],
        [
         "max",
         "202509.0",
         "5106653.0",
         "51.0",
         "125853230.38",
         "584865.0",
         "60508595.1",
         "42350.0",
         "129110093.05",
         "374775.0",
         "60364971.16",
         "126547.0",
         "22410.0",
         "1665.0",
         "22242.0",
         "1618.0"
        ]
       ],
       "shape": {
        "columns": 15,
        "rows": 8
       }
      },
      "text/html": [
       "<div>\n",
       "<style scoped>\n",
       "    .dataframe tbody tr th:only-of-type {\n",
       "        vertical-align: middle;\n",
       "    }\n",
       "\n",
       "    .dataframe tbody tr th {\n",
       "        vertical-align: top;\n",
       "    }\n",
       "\n",
       "    .dataframe thead th {\n",
       "        text-align: right;\n",
       "    }\n",
       "</style>\n",
       "<table border=\"1\" class=\"dataframe\">\n",
       "  <thead>\n",
       "    <tr style=\"text-align: right;\">\n",
       "      <th></th>\n",
       "      <th>AnoMes</th>\n",
       "      <th>Municipio_Ibge</th>\n",
       "      <th>Estado_Ibge</th>\n",
       "      <th>VL_PagadorPF</th>\n",
       "      <th>QT_PagadorPF</th>\n",
       "      <th>VL_PagadorPJ</th>\n",
       "      <th>QT_PagadorPJ</th>\n",
       "      <th>VL_RecebedorPF</th>\n",
       "      <th>QT_RecebedorPF</th>\n",
       "      <th>VL_RecebedorPJ</th>\n",
       "      <th>QT_RecebedorPJ</th>\n",
       "      <th>QT_PES_PagadorPF</th>\n",
       "      <th>QT_PES_PagadorPJ</th>\n",
       "      <th>QT_PES_RecebedorPF</th>\n",
       "      <th>QT_PES_RecebedorPJ</th>\n",
       "    </tr>\n",
       "  </thead>\n",
       "  <tbody>\n",
       "    <tr>\n",
       "      <th>count</th>\n",
       "      <td>200.000000</td>\n",
       "      <td>2.000000e+02</td>\n",
       "      <td>200.00000</td>\n",
       "      <td>2.000000e+02</td>\n",
       "      <td>200.000000</td>\n",
       "      <td>2.000000e+02</td>\n",
       "      <td>200.000000</td>\n",
       "      <td>2.000000e+02</td>\n",
       "      <td>200.000000</td>\n",
       "      <td>2.000000e+02</td>\n",
       "      <td>200.000000</td>\n",
       "      <td>200.000000</td>\n",
       "      <td>200.000000</td>\n",
       "      <td>200.000000</td>\n",
       "      <td>200.000000</td>\n",
       "    </tr>\n",
       "    <tr>\n",
       "      <th>mean</th>\n",
       "      <td>202283.685000</td>\n",
       "      <td>2.874719e+06</td>\n",
       "      <td>28.70000</td>\n",
       "      <td>2.142596e+07</td>\n",
       "      <td>114667.265000</td>\n",
       "      <td>6.907734e+06</td>\n",
       "      <td>5134.850000</td>\n",
       "      <td>2.086848e+07</td>\n",
       "      <td>75112.215000</td>\n",
       "      <td>6.857556e+06</td>\n",
       "      <td>15436.870000</td>\n",
       "      <td>4670.820000</td>\n",
       "      <td>199.715000</td>\n",
       "      <td>4620.655000</td>\n",
       "      <td>198.730000</td>\n",
       "    </tr>\n",
       "    <tr>\n",
       "      <th>std</th>\n",
       "      <td>146.078852</td>\n",
       "      <td>1.032504e+06</td>\n",
       "      <td>10.32244</td>\n",
       "      <td>2.139469e+07</td>\n",
       "      <td>107003.605598</td>\n",
       "      <td>1.185209e+07</td>\n",
       "      <td>7917.868726</td>\n",
       "      <td>2.163656e+07</td>\n",
       "      <td>64084.592644</td>\n",
       "      <td>1.151830e+07</td>\n",
       "      <td>23410.262245</td>\n",
       "      <td>3498.087549</td>\n",
       "      <td>282.124983</td>\n",
       "      <td>3441.088467</td>\n",
       "      <td>279.692558</td>\n",
       "    </tr>\n",
       "    <tr>\n",
       "      <th>min</th>\n",
       "      <td>202011.000000</td>\n",
       "      <td>1.701903e+06</td>\n",
       "      <td>17.00000</td>\n",
       "      <td>7.781612e+04</td>\n",
       "      <td>202.000000</td>\n",
       "      <td>3.000000e+02</td>\n",
       "      <td>1.000000</td>\n",
       "      <td>7.910517e+04</td>\n",
       "      <td>182.000000</td>\n",
       "      <td>4.000000e+02</td>\n",
       "      <td>2.000000</td>\n",
       "      <td>85.000000</td>\n",
       "      <td>1.000000</td>\n",
       "      <td>86.000000</td>\n",
       "      <td>2.000000</td>\n",
       "    </tr>\n",
       "    <tr>\n",
       "      <th>25%</th>\n",
       "      <td>202112.000000</td>\n",
       "      <td>2.111029e+06</td>\n",
       "      <td>21.00000</td>\n",
       "      <td>6.069974e+06</td>\n",
       "      <td>26299.000000</td>\n",
       "      <td>9.467613e+05</td>\n",
       "      <td>791.750000</td>\n",
       "      <td>6.043089e+06</td>\n",
       "      <td>21389.000000</td>\n",
       "      <td>9.712989e+05</td>\n",
       "      <td>1655.500000</td>\n",
       "      <td>2393.750000</td>\n",
       "      <td>57.750000</td>\n",
       "      <td>2361.250000</td>\n",
       "      <td>55.750000</td>\n",
       "    </tr>\n",
       "    <tr>\n",
       "      <th>50%</th>\n",
       "      <td>202304.000000</td>\n",
       "      <td>2.601003e+06</td>\n",
       "      <td>26.00000</td>\n",
       "      <td>1.484926e+07</td>\n",
       "      <td>91097.500000</td>\n",
       "      <td>2.091050e+06</td>\n",
       "      <td>1834.000000</td>\n",
       "      <td>1.453062e+07</td>\n",
       "      <td>58765.000000</td>\n",
       "      <td>2.314636e+06</td>\n",
       "      <td>6038.000000</td>\n",
       "      <td>4085.000000</td>\n",
       "      <td>89.500000</td>\n",
       "      <td>3953.500000</td>\n",
       "      <td>86.000000</td>\n",
       "    </tr>\n",
       "    <tr>\n",
       "      <th>75%</th>\n",
       "      <td>202407.250000</td>\n",
       "      <td>2.807204e+06</td>\n",
       "      <td>28.00000</td>\n",
       "      <td>3.075283e+07</td>\n",
       "      <td>173654.250000</td>\n",
       "      <td>5.464544e+06</td>\n",
       "      <td>5399.000000</td>\n",
       "      <td>2.840154e+07</td>\n",
       "      <td>111122.500000</td>\n",
       "      <td>5.747863e+06</td>\n",
       "      <td>18212.750000</td>\n",
       "      <td>5917.750000</td>\n",
       "      <td>165.750000</td>\n",
       "      <td>5769.250000</td>\n",
       "      <td>165.250000</td>\n",
       "    </tr>\n",
       "    <tr>\n",
       "      <th>max</th>\n",
       "      <td>202509.000000</td>\n",
       "      <td>5.106653e+06</td>\n",
       "      <td>51.00000</td>\n",
       "      <td>1.258532e+08</td>\n",
       "      <td>584865.000000</td>\n",
       "      <td>6.050860e+07</td>\n",
       "      <td>42350.000000</td>\n",
       "      <td>1.291101e+08</td>\n",
       "      <td>374775.000000</td>\n",
       "      <td>6.036497e+07</td>\n",
       "      <td>126547.000000</td>\n",
       "      <td>22410.000000</td>\n",
       "      <td>1665.000000</td>\n",
       "      <td>22242.000000</td>\n",
       "      <td>1618.000000</td>\n",
       "    </tr>\n",
       "  </tbody>\n",
       "</table>\n",
       "</div>"
      ],
      "text/plain": [
       "              AnoMes  Municipio_Ibge  Estado_Ibge  VL_PagadorPF  \\\n",
       "count     200.000000    2.000000e+02    200.00000  2.000000e+02   \n",
       "mean   202283.685000    2.874719e+06     28.70000  2.142596e+07   \n",
       "std       146.078852    1.032504e+06     10.32244  2.139469e+07   \n",
       "min    202011.000000    1.701903e+06     17.00000  7.781612e+04   \n",
       "25%    202112.000000    2.111029e+06     21.00000  6.069974e+06   \n",
       "50%    202304.000000    2.601003e+06     26.00000  1.484926e+07   \n",
       "75%    202407.250000    2.807204e+06     28.00000  3.075283e+07   \n",
       "max    202509.000000    5.106653e+06     51.00000  1.258532e+08   \n",
       "\n",
       "        QT_PagadorPF  VL_PagadorPJ  QT_PagadorPJ  VL_RecebedorPF  \\\n",
       "count     200.000000  2.000000e+02    200.000000    2.000000e+02   \n",
       "mean   114667.265000  6.907734e+06   5134.850000    2.086848e+07   \n",
       "std    107003.605598  1.185209e+07   7917.868726    2.163656e+07   \n",
       "min       202.000000  3.000000e+02      1.000000    7.910517e+04   \n",
       "25%     26299.000000  9.467613e+05    791.750000    6.043089e+06   \n",
       "50%     91097.500000  2.091050e+06   1834.000000    1.453062e+07   \n",
       "75%    173654.250000  5.464544e+06   5399.000000    2.840154e+07   \n",
       "max    584865.000000  6.050860e+07  42350.000000    1.291101e+08   \n",
       "\n",
       "       QT_RecebedorPF  VL_RecebedorPJ  QT_RecebedorPJ  QT_PES_PagadorPF  \\\n",
       "count      200.000000    2.000000e+02      200.000000        200.000000   \n",
       "mean     75112.215000    6.857556e+06    15436.870000       4670.820000   \n",
       "std      64084.592644    1.151830e+07    23410.262245       3498.087549   \n",
       "min        182.000000    4.000000e+02        2.000000         85.000000   \n",
       "25%      21389.000000    9.712989e+05     1655.500000       2393.750000   \n",
       "50%      58765.000000    2.314636e+06     6038.000000       4085.000000   \n",
       "75%     111122.500000    5.747863e+06    18212.750000       5917.750000   \n",
       "max     374775.000000    6.036497e+07   126547.000000      22410.000000   \n",
       "\n",
       "       QT_PES_PagadorPJ  QT_PES_RecebedorPF  QT_PES_RecebedorPJ  \n",
       "count        200.000000          200.000000          200.000000  \n",
       "mean         199.715000         4620.655000          198.730000  \n",
       "std          282.124983         3441.088467          279.692558  \n",
       "min            1.000000           86.000000            2.000000  \n",
       "25%           57.750000         2361.250000           55.750000  \n",
       "50%           89.500000         3953.500000           86.000000  \n",
       "75%          165.750000         5769.250000          165.250000  \n",
       "max         1665.000000        22242.000000         1618.000000  "
      ]
     },
     "execution_count": 90,
     "metadata": {},
     "output_type": "execute_result"
    }
   ],
   "source": [
    "df_transacoes.describe()\n"
   ]
  },
  {
   "cell_type": "code",
   "execution_count": 91,
   "id": "366cef2c",
   "metadata": {},
   "outputs": [
    {
     "data": {
      "text/plain": [
       "20"
      ]
     },
     "execution_count": 91,
     "metadata": {},
     "output_type": "execute_result"
    }
   ],
   "source": [
    "df_transacoes['Municipio'].nunique()\n"
   ]
  },
  {
   "cell_type": "code",
   "execution_count": 92,
   "id": "39a6b928",
   "metadata": {},
   "outputs": [
    {
     "name": "stdout",
     "output_type": "stream",
     "text": [
      "Total de transações de pessoas físicas pagadoras: 22933453\n"
     ]
    }
   ],
   "source": [
    "total_pagador_pf = df_transacoes['QT_PagadorPF'].sum()\n",
    "print(f\"Total de transações de pessoas físicas pagadoras: {total_pagador_pf}\")\n"
   ]
  },
  {
   "cell_type": "code",
   "execution_count": 93,
   "id": "b84b5bc2",
   "metadata": {},
   "outputs": [
    {
     "data": {
      "application/vnd.microsoft.datawrangler.viewer.v0+json": {
       "columns": [
        {
         "name": "Estado",
         "rawType": "object",
         "type": "string"
        },
        {
         "name": "VL_PagadorPF",
         "rawType": "float64",
         "type": "float"
        },
        {
         "name": "VL_PagadorPJ",
         "rawType": "float64",
         "type": "float"
        }
       ],
       "ref": "ff0cd66f-9817-455b-adcb-e9becb8893ef",
       "rows": [
        [
         "ALAGOAS",
         "32209864.180000003",
         "5856632.72"
        ],
        [
         "ESPÍRITO SANTO",
         "6774842.0",
         "3226820.67"
        ],
        [
         "MARANHÃO",
         "1079102064.56",
         "208826573.93"
        ],
        [
         "MATO GROSSO",
         "37568370.62",
         "17192532.87"
        ],
        [
         "MATO GROSSO DO SUL",
         "1304553593.41",
         "609553920.48"
        ],
        [
         "MINAS GERAIS",
         "247184257.31",
         "96674514.96000001"
        ],
        [
         "PARAÍBA",
         "17173692.36",
         "3626847.91"
        ],
        [
         "PERNAMBUCO",
         "1092115540.05",
         "109582136.92"
        ],
        [
         "RIO GRANDE DO SUL",
         "255866919.43",
         "277158888.55"
        ],
        [
         "SERGIPE",
         "53257259.42",
         "8731385.709999999"
        ],
        [
         "SÃO PAULO",
         "7387290.92",
         "8046487.33"
        ],
        [
         "TOCANTINS",
         "151998157.63",
         "33070134.330000002"
        ]
       ],
       "shape": {
        "columns": 2,
        "rows": 12
       }
      },
      "text/html": [
       "<div>\n",
       "<style scoped>\n",
       "    .dataframe tbody tr th:only-of-type {\n",
       "        vertical-align: middle;\n",
       "    }\n",
       "\n",
       "    .dataframe tbody tr th {\n",
       "        vertical-align: top;\n",
       "    }\n",
       "\n",
       "    .dataframe thead th {\n",
       "        text-align: right;\n",
       "    }\n",
       "</style>\n",
       "<table border=\"1\" class=\"dataframe\">\n",
       "  <thead>\n",
       "    <tr style=\"text-align: right;\">\n",
       "      <th></th>\n",
       "      <th>VL_PagadorPF</th>\n",
       "      <th>VL_PagadorPJ</th>\n",
       "    </tr>\n",
       "    <tr>\n",
       "      <th>Estado</th>\n",
       "      <th></th>\n",
       "      <th></th>\n",
       "    </tr>\n",
       "  </thead>\n",
       "  <tbody>\n",
       "    <tr>\n",
       "      <th>ALAGOAS</th>\n",
       "      <td>3.220986e+07</td>\n",
       "      <td>5.856633e+06</td>\n",
       "    </tr>\n",
       "    <tr>\n",
       "      <th>ESPÍRITO SANTO</th>\n",
       "      <td>6.774842e+06</td>\n",
       "      <td>3.226821e+06</td>\n",
       "    </tr>\n",
       "    <tr>\n",
       "      <th>MARANHÃO</th>\n",
       "      <td>1.079102e+09</td>\n",
       "      <td>2.088266e+08</td>\n",
       "    </tr>\n",
       "    <tr>\n",
       "      <th>MATO GROSSO</th>\n",
       "      <td>3.756837e+07</td>\n",
       "      <td>1.719253e+07</td>\n",
       "    </tr>\n",
       "    <tr>\n",
       "      <th>MATO GROSSO DO SUL</th>\n",
       "      <td>1.304554e+09</td>\n",
       "      <td>6.095539e+08</td>\n",
       "    </tr>\n",
       "    <tr>\n",
       "      <th>MINAS GERAIS</th>\n",
       "      <td>2.471843e+08</td>\n",
       "      <td>9.667451e+07</td>\n",
       "    </tr>\n",
       "    <tr>\n",
       "      <th>PARAÍBA</th>\n",
       "      <td>1.717369e+07</td>\n",
       "      <td>3.626848e+06</td>\n",
       "    </tr>\n",
       "    <tr>\n",
       "      <th>PERNAMBUCO</th>\n",
       "      <td>1.092116e+09</td>\n",
       "      <td>1.095821e+08</td>\n",
       "    </tr>\n",
       "    <tr>\n",
       "      <th>RIO GRANDE DO SUL</th>\n",
       "      <td>2.558669e+08</td>\n",
       "      <td>2.771589e+08</td>\n",
       "    </tr>\n",
       "    <tr>\n",
       "      <th>SERGIPE</th>\n",
       "      <td>5.325726e+07</td>\n",
       "      <td>8.731386e+06</td>\n",
       "    </tr>\n",
       "    <tr>\n",
       "      <th>SÃO PAULO</th>\n",
       "      <td>7.387291e+06</td>\n",
       "      <td>8.046487e+06</td>\n",
       "    </tr>\n",
       "    <tr>\n",
       "      <th>TOCANTINS</th>\n",
       "      <td>1.519982e+08</td>\n",
       "      <td>3.307013e+07</td>\n",
       "    </tr>\n",
       "  </tbody>\n",
       "</table>\n",
       "</div>"
      ],
      "text/plain": [
       "                    VL_PagadorPF  VL_PagadorPJ\n",
       "Estado                                        \n",
       "ALAGOAS             3.220986e+07  5.856633e+06\n",
       "ESPÍRITO SANTO      6.774842e+06  3.226821e+06\n",
       "MARANHÃO            1.079102e+09  2.088266e+08\n",
       "MATO GROSSO         3.756837e+07  1.719253e+07\n",
       "MATO GROSSO DO SUL  1.304554e+09  6.095539e+08\n",
       "MINAS GERAIS        2.471843e+08  9.667451e+07\n",
       "PARAÍBA             1.717369e+07  3.626848e+06\n",
       "PERNAMBUCO          1.092116e+09  1.095821e+08\n",
       "RIO GRANDE DO SUL   2.558669e+08  2.771589e+08\n",
       "SERGIPE             5.325726e+07  8.731386e+06\n",
       "SÃO PAULO           7.387291e+06  8.046487e+06\n",
       "TOCANTINS           1.519982e+08  3.307013e+07"
      ]
     },
     "execution_count": 93,
     "metadata": {},
     "output_type": "execute_result"
    }
   ],
   "source": [
    "df_transacoes.groupby('Estado')[['VL_PagadorPF','VL_PagadorPJ']].sum()"
   ]
  },
  {
   "cell_type": "code",
   "execution_count": 94,
   "id": "dc72743e",
   "metadata": {},
   "outputs": [],
   "source": [
    "df_chaves = coletar_chaves_pix()\n"
   ]
  },
  {
   "cell_type": "code",
   "execution_count": 95,
   "id": "73b4c14a",
   "metadata": {},
   "outputs": [
    {
     "data": {
      "text/plain": [
       "Index(['Data', 'ISPB', 'Nome', 'NaturezaUsuario', 'TipoChave', 'qtdChaves'], dtype='object')"
      ]
     },
     "execution_count": 95,
     "metadata": {},
     "output_type": "execute_result"
    }
   ],
   "source": [
    "df_chaves.shape\n",
    "df_chaves.columns\n"
   ]
  },
  {
   "cell_type": "code",
   "execution_count": 96,
   "id": "597f8621",
   "metadata": {},
   "outputs": [
    {
     "data": {
      "application/vnd.microsoft.datawrangler.viewer.v0+json": {
       "columns": [
        {
         "name": "index",
         "rawType": "int64",
         "type": "integer"
        },
        {
         "name": "Data",
         "rawType": "object",
         "type": "string"
        },
        {
         "name": "ISPB",
         "rawType": "object",
         "type": "string"
        },
        {
         "name": "Nome",
         "rawType": "object",
         "type": "string"
        },
        {
         "name": "NaturezaUsuario",
         "rawType": "object",
         "type": "string"
        },
        {
         "name": "TipoChave",
         "rawType": "object",
         "type": "string"
        },
        {
         "name": "qtdChaves",
         "rawType": "int64",
         "type": "integer"
        }
       ],
       "ref": "3bcd7e8b-dcda-4348-882d-7d339443dc70",
       "rows": [
        [
         "0",
         "2025-06-30",
         "67960229",
         "CC CREDIGUAÇU",
         "PF",
         "Celular",
         "6255"
        ],
        [
         "1",
         "2024-06-30",
         "07564184",
         "COOP ASCOOB SERTÕES",
         "PF",
         "Celular",
         "6"
        ],
        [
         "2",
         "2023-02-28",
         "07440317",
         "CC SICOOB CREDMED",
         "PJ",
         "Celular",
         "1"
        ],
        [
         "3",
         "2025-01-31",
         "33641877",
         "EQUIS BANK",
         "PJ",
         "e-mail",
         "4"
        ],
        [
         "4",
         "2024-10-31",
         "07097064",
         "COOP SICOOB CONFIANÇA",
         "PF",
         "Aleatória",
         "2427"
        ],
        [
         "5",
         "2024-12-31",
         "70431630",
         "COOP SICREDI UNIVALES MT/RO",
         "PF",
         "Aleatória",
         "31187"
        ],
        [
         "6",
         "2024-12-31",
         "92934215",
         "BANRISUL PAGAMENTOS IP",
         "PJ",
         "Aleatória",
         "58545"
        ],
        [
         "7",
         "2023-12-31",
         "73647935",
         "COOP UNIQUE BR LTDA.",
         "PF",
         "e-mail",
         "1575"
        ],
        [
         "8",
         "2024-05-31",
         "09639338",
         "CECM PRAIA GRANDE E REGIãO",
         "PJ",
         "Celular",
         "1"
        ],
        [
         "9",
         "2024-10-31",
         "05428587",
         "COOP CRESOL OLIVEIRA DOS BREJINHOS",
         "PJ",
         "e-mail",
         "1"
        ]
       ],
       "shape": {
        "columns": 6,
        "rows": 10
       }
      },
      "text/html": [
       "<div>\n",
       "<style scoped>\n",
       "    .dataframe tbody tr th:only-of-type {\n",
       "        vertical-align: middle;\n",
       "    }\n",
       "\n",
       "    .dataframe tbody tr th {\n",
       "        vertical-align: top;\n",
       "    }\n",
       "\n",
       "    .dataframe thead th {\n",
       "        text-align: right;\n",
       "    }\n",
       "</style>\n",
       "<table border=\"1\" class=\"dataframe\">\n",
       "  <thead>\n",
       "    <tr style=\"text-align: right;\">\n",
       "      <th></th>\n",
       "      <th>Data</th>\n",
       "      <th>ISPB</th>\n",
       "      <th>Nome</th>\n",
       "      <th>NaturezaUsuario</th>\n",
       "      <th>TipoChave</th>\n",
       "      <th>qtdChaves</th>\n",
       "    </tr>\n",
       "  </thead>\n",
       "  <tbody>\n",
       "    <tr>\n",
       "      <th>0</th>\n",
       "      <td>2025-06-30</td>\n",
       "      <td>67960229</td>\n",
       "      <td>CC CREDIGUAÇU</td>\n",
       "      <td>PF</td>\n",
       "      <td>Celular</td>\n",
       "      <td>6255</td>\n",
       "    </tr>\n",
       "    <tr>\n",
       "      <th>1</th>\n",
       "      <td>2024-06-30</td>\n",
       "      <td>07564184</td>\n",
       "      <td>COOP ASCOOB SERTÕES</td>\n",
       "      <td>PF</td>\n",
       "      <td>Celular</td>\n",
       "      <td>6</td>\n",
       "    </tr>\n",
       "    <tr>\n",
       "      <th>2</th>\n",
       "      <td>2023-02-28</td>\n",
       "      <td>07440317</td>\n",
       "      <td>CC SICOOB CREDMED</td>\n",
       "      <td>PJ</td>\n",
       "      <td>Celular</td>\n",
       "      <td>1</td>\n",
       "    </tr>\n",
       "    <tr>\n",
       "      <th>3</th>\n",
       "      <td>2025-01-31</td>\n",
       "      <td>33641877</td>\n",
       "      <td>EQUIS BANK</td>\n",
       "      <td>PJ</td>\n",
       "      <td>e-mail</td>\n",
       "      <td>4</td>\n",
       "    </tr>\n",
       "    <tr>\n",
       "      <th>4</th>\n",
       "      <td>2024-10-31</td>\n",
       "      <td>07097064</td>\n",
       "      <td>COOP SICOOB CONFIANÇA</td>\n",
       "      <td>PF</td>\n",
       "      <td>Aleatória</td>\n",
       "      <td>2427</td>\n",
       "    </tr>\n",
       "    <tr>\n",
       "      <th>5</th>\n",
       "      <td>2024-12-31</td>\n",
       "      <td>70431630</td>\n",
       "      <td>COOP SICREDI UNIVALES MT/RO</td>\n",
       "      <td>PF</td>\n",
       "      <td>Aleatória</td>\n",
       "      <td>31187</td>\n",
       "    </tr>\n",
       "    <tr>\n",
       "      <th>6</th>\n",
       "      <td>2024-12-31</td>\n",
       "      <td>92934215</td>\n",
       "      <td>BANRISUL PAGAMENTOS IP</td>\n",
       "      <td>PJ</td>\n",
       "      <td>Aleatória</td>\n",
       "      <td>58545</td>\n",
       "    </tr>\n",
       "    <tr>\n",
       "      <th>7</th>\n",
       "      <td>2023-12-31</td>\n",
       "      <td>73647935</td>\n",
       "      <td>COOP UNIQUE BR LTDA.</td>\n",
       "      <td>PF</td>\n",
       "      <td>e-mail</td>\n",
       "      <td>1575</td>\n",
       "    </tr>\n",
       "    <tr>\n",
       "      <th>8</th>\n",
       "      <td>2024-05-31</td>\n",
       "      <td>09639338</td>\n",
       "      <td>CECM PRAIA GRANDE E REGIãO</td>\n",
       "      <td>PJ</td>\n",
       "      <td>Celular</td>\n",
       "      <td>1</td>\n",
       "    </tr>\n",
       "    <tr>\n",
       "      <th>9</th>\n",
       "      <td>2024-10-31</td>\n",
       "      <td>05428587</td>\n",
       "      <td>COOP CRESOL OLIVEIRA DOS BREJINHOS</td>\n",
       "      <td>PJ</td>\n",
       "      <td>e-mail</td>\n",
       "      <td>1</td>\n",
       "    </tr>\n",
       "  </tbody>\n",
       "</table>\n",
       "</div>"
      ],
      "text/plain": [
       "         Data      ISPB                                Nome NaturezaUsuario  \\\n",
       "0  2025-06-30  67960229                       CC CREDIGUAÇU              PF   \n",
       "1  2024-06-30  07564184                 COOP ASCOOB SERTÕES              PF   \n",
       "2  2023-02-28  07440317                   CC SICOOB CREDMED              PJ   \n",
       "3  2025-01-31  33641877                          EQUIS BANK              PJ   \n",
       "4  2024-10-31  07097064               COOP SICOOB CONFIANÇA              PF   \n",
       "5  2024-12-31  70431630         COOP SICREDI UNIVALES MT/RO              PF   \n",
       "6  2024-12-31  92934215              BANRISUL PAGAMENTOS IP              PJ   \n",
       "7  2023-12-31  73647935                COOP UNIQUE BR LTDA.              PF   \n",
       "8  2024-05-31  09639338          CECM PRAIA GRANDE E REGIãO              PJ   \n",
       "9  2024-10-31  05428587  COOP CRESOL OLIVEIRA DOS BREJINHOS              PJ   \n",
       "\n",
       "   TipoChave  qtdChaves  \n",
       "0    Celular       6255  \n",
       "1    Celular          6  \n",
       "2    Celular          1  \n",
       "3     e-mail          4  \n",
       "4  Aleatória       2427  \n",
       "5  Aleatória      31187  \n",
       "6  Aleatória      58545  \n",
       "7     e-mail       1575  \n",
       "8    Celular          1  \n",
       "9     e-mail          1  "
      ]
     },
     "execution_count": 96,
     "metadata": {},
     "output_type": "execute_result"
    }
   ],
   "source": [
    "df_chaves.head(10)\n"
   ]
  },
  {
   "cell_type": "code",
   "execution_count": 97,
   "id": "169fafa8",
   "metadata": {},
   "outputs": [
    {
     "data": {
      "application/vnd.microsoft.datawrangler.viewer.v0+json": {
       "columns": [
        {
         "name": "index",
         "rawType": "object",
         "type": "string"
        },
        {
         "name": "qtdChaves",
         "rawType": "float64",
         "type": "float"
        }
       ],
       "ref": "913b3767-a7e0-48c0-9a89-1eae8ea6b8e5",
       "rows": [
        [
         "count",
         "200.0"
        ],
        [
         "mean",
         "8821.395"
        ],
        [
         "std",
         "56595.52434227338"
        ],
        [
         "min",
         "1.0"
        ],
        [
         "25%",
         "26.25"
        ],
        [
         "50%",
         "643.5"
        ],
        [
         "75%",
         "2303.5"
        ],
        [
         "max",
         "751819.0"
        ]
       ],
       "shape": {
        "columns": 1,
        "rows": 8
       }
      },
      "text/plain": [
       "count       200.000000\n",
       "mean       8821.395000\n",
       "std       56595.524342\n",
       "min           1.000000\n",
       "25%          26.250000\n",
       "50%         643.500000\n",
       "75%        2303.500000\n",
       "max      751819.000000\n",
       "Name: qtdChaves, dtype: float64"
      ]
     },
     "execution_count": 97,
     "metadata": {},
     "output_type": "execute_result"
    }
   ],
   "source": [
    "df_chaves['qtdChaves'].describe()\n"
   ]
  },
  {
   "cell_type": "code",
   "execution_count": 98,
   "id": "93243165",
   "metadata": {},
   "outputs": [
    {
     "data": {
      "application/vnd.microsoft.datawrangler.viewer.v0+json": {
       "columns": [
        {
         "name": "TipoChave",
         "rawType": "object",
         "type": "string"
        },
        {
         "name": "qtdChaves",
         "rawType": "int64",
         "type": "integer"
        }
       ],
       "ref": "459de1dd-66bf-4539-a831-088f8d69d129",
       "rows": [
        [
         "Aleatória",
         "154733"
        ],
        [
         "CNPJ",
         "48284"
        ],
        [
         "CPF",
         "208376"
        ],
        [
         "Celular",
         "313827"
        ],
        [
         "e-mail",
         "1039059"
        ]
       ],
       "shape": {
        "columns": 1,
        "rows": 5
       }
      },
      "text/plain": [
       "TipoChave\n",
       "Aleatória     154733\n",
       "CNPJ           48284\n",
       "CPF           208376\n",
       "Celular       313827\n",
       "e-mail       1039059\n",
       "Name: qtdChaves, dtype: int64"
      ]
     },
     "execution_count": 98,
     "metadata": {},
     "output_type": "execute_result"
    }
   ],
   "source": [
    "df_chaves.groupby('TipoChave')['qtdChaves'].sum()\n"
   ]
  },
  {
   "cell_type": "code",
   "execution_count": 99,
   "id": "e46c18ec",
   "metadata": {},
   "outputs": [
    {
     "data": {
      "application/vnd.microsoft.datawrangler.viewer.v0+json": {
       "columns": [
        {
         "name": "NaturezaUsuario",
         "rawType": "object",
         "type": "string"
        },
        {
         "name": "qtdChaves",
         "rawType": "int64",
         "type": "integer"
        }
       ],
       "ref": "4af9378f-f376-443a-82bc-92730e1717fa",
       "rows": [
        [
         "PF",
         "622752"
        ],
        [
         "PJ",
         "1141527"
        ]
       ],
       "shape": {
        "columns": 1,
        "rows": 2
       }
      },
      "text/plain": [
       "NaturezaUsuario\n",
       "PF     622752\n",
       "PJ    1141527\n",
       "Name: qtdChaves, dtype: int64"
      ]
     },
     "execution_count": 99,
     "metadata": {},
     "output_type": "execute_result"
    }
   ],
   "source": [
    "df_chaves.groupby('NaturezaUsuario')['qtdChaves'].sum()\n"
   ]
  },
  {
   "cell_type": "code",
   "execution_count": 100,
   "id": "b015dcaa",
   "metadata": {},
   "outputs": [
    {
     "name": "stdout",
     "output_type": "stream",
     "text": [
      "(200, 19)\n",
      "Index(['AnoMes', 'Municipio_Ibge', 'Municipio', 'Estado_Ibge', 'Estado',\n",
      "       'Sigla_Regiao', 'Regiao', 'VL_PagadorPF', 'QT_PagadorPF',\n",
      "       'VL_PagadorPJ', 'QT_PagadorPJ', 'VL_RecebedorPF', 'QT_RecebedorPF',\n",
      "       'VL_RecebedorPJ', 'QT_RecebedorPJ', 'QT_PES_PagadorPF',\n",
      "       'QT_PES_PagadorPJ', 'QT_PES_RecebedorPF', 'QT_PES_RecebedorPJ'],\n",
      "      dtype='object')\n"
     ]
    },
    {
     "data": {
      "application/vnd.microsoft.datawrangler.viewer.v0+json": {
       "columns": [
        {
         "name": "index",
         "rawType": "object",
         "type": "string"
        },
        {
         "name": "AnoMes",
         "rawType": "float64",
         "type": "float"
        },
        {
         "name": "Municipio_Ibge",
         "rawType": "float64",
         "type": "float"
        },
        {
         "name": "Estado_Ibge",
         "rawType": "float64",
         "type": "float"
        },
        {
         "name": "VL_PagadorPF",
         "rawType": "float64",
         "type": "float"
        },
        {
         "name": "QT_PagadorPF",
         "rawType": "float64",
         "type": "float"
        },
        {
         "name": "VL_PagadorPJ",
         "rawType": "float64",
         "type": "float"
        },
        {
         "name": "QT_PagadorPJ",
         "rawType": "float64",
         "type": "float"
        },
        {
         "name": "VL_RecebedorPF",
         "rawType": "float64",
         "type": "float"
        },
        {
         "name": "QT_RecebedorPF",
         "rawType": "float64",
         "type": "float"
        },
        {
         "name": "VL_RecebedorPJ",
         "rawType": "float64",
         "type": "float"
        },
        {
         "name": "QT_RecebedorPJ",
         "rawType": "float64",
         "type": "float"
        },
        {
         "name": "QT_PES_PagadorPF",
         "rawType": "float64",
         "type": "float"
        },
        {
         "name": "QT_PES_PagadorPJ",
         "rawType": "float64",
         "type": "float"
        },
        {
         "name": "QT_PES_RecebedorPF",
         "rawType": "float64",
         "type": "float"
        },
        {
         "name": "QT_PES_RecebedorPJ",
         "rawType": "float64",
         "type": "float"
        }
       ],
       "ref": "407eb19e-e7aa-4ebb-968c-ec775cfede38",
       "rows": [
        [
         "count",
         "200.0",
         "200.0",
         "200.0",
         "200.0",
         "200.0",
         "200.0",
         "200.0",
         "200.0",
         "200.0",
         "200.0",
         "200.0",
         "200.0",
         "200.0",
         "200.0",
         "200.0"
        ],
        [
         "mean",
         "202283.685",
         "2874719.175",
         "28.7",
         "21425959.259450004",
         "114667.265",
         "6907734.3819",
         "5134.85",
         "20868478.45205",
         "75112.215",
         "6857556.0041",
         "15436.87",
         "4670.82",
         "199.715",
         "4620.655",
         "198.73"
        ],
        [
         "std",
         "146.07885175359314",
         "1032504.3627388205",
         "10.32243981910747",
         "21394693.330511022",
         "107003.60559798732",
         "11852090.193741437",
         "7917.868726072476",
         "21636562.21006265",
         "64084.59264386743",
         "11518297.526992045",
         "23410.26224489967",
         "3498.0875489473533",
         "282.1249834852147",
         "3441.0884666266215",
         "279.6925575228421"
        ],
        [
         "min",
         "202011.0",
         "1701903.0",
         "17.0",
         "77816.12",
         "202.0",
         "300.0",
         "1.0",
         "79105.17",
         "182.0",
         "400.0",
         "2.0",
         "85.0",
         "1.0",
         "86.0",
         "2.0"
        ],
        [
         "25%",
         "202112.0",
         "2111029.0",
         "21.0",
         "6069973.8225",
         "26299.0",
         "946761.28",
         "791.75",
         "6043088.567500001",
         "21389.0",
         "971298.8775000001",
         "1655.5",
         "2393.75",
         "57.75",
         "2361.25",
         "55.75"
        ],
        [
         "50%",
         "202304.0",
         "2601003.0",
         "26.0",
         "14849259.275",
         "91097.5",
         "2091049.765",
         "1834.0",
         "14530617.625",
         "58765.0",
         "2314636.255",
         "6038.0",
         "4085.0",
         "89.5",
         "3953.5",
         "86.0"
        ],
        [
         "75%",
         "202407.25",
         "2807204.0",
         "28.0",
         "30752833.142500002",
         "173654.25",
         "5464544.3925",
         "5399.0",
         "28401539.564999998",
         "111122.5",
         "5747862.85",
         "18212.75",
         "5917.75",
         "165.75",
         "5769.25",
         "165.25"
        ],
        [
         "max",
         "202509.0",
         "5106653.0",
         "51.0",
         "125853230.38",
         "584865.0",
         "60508595.1",
         "42350.0",
         "129110093.05",
         "374775.0",
         "60364971.16",
         "126547.0",
         "22410.0",
         "1665.0",
         "22242.0",
         "1618.0"
        ]
       ],
       "shape": {
        "columns": 15,
        "rows": 8
       }
      },
      "text/html": [
       "<div>\n",
       "<style scoped>\n",
       "    .dataframe tbody tr th:only-of-type {\n",
       "        vertical-align: middle;\n",
       "    }\n",
       "\n",
       "    .dataframe tbody tr th {\n",
       "        vertical-align: top;\n",
       "    }\n",
       "\n",
       "    .dataframe thead th {\n",
       "        text-align: right;\n",
       "    }\n",
       "</style>\n",
       "<table border=\"1\" class=\"dataframe\">\n",
       "  <thead>\n",
       "    <tr style=\"text-align: right;\">\n",
       "      <th></th>\n",
       "      <th>AnoMes</th>\n",
       "      <th>Municipio_Ibge</th>\n",
       "      <th>Estado_Ibge</th>\n",
       "      <th>VL_PagadorPF</th>\n",
       "      <th>QT_PagadorPF</th>\n",
       "      <th>VL_PagadorPJ</th>\n",
       "      <th>QT_PagadorPJ</th>\n",
       "      <th>VL_RecebedorPF</th>\n",
       "      <th>QT_RecebedorPF</th>\n",
       "      <th>VL_RecebedorPJ</th>\n",
       "      <th>QT_RecebedorPJ</th>\n",
       "      <th>QT_PES_PagadorPF</th>\n",
       "      <th>QT_PES_PagadorPJ</th>\n",
       "      <th>QT_PES_RecebedorPF</th>\n",
       "      <th>QT_PES_RecebedorPJ</th>\n",
       "    </tr>\n",
       "  </thead>\n",
       "  <tbody>\n",
       "    <tr>\n",
       "      <th>count</th>\n",
       "      <td>200.000000</td>\n",
       "      <td>2.000000e+02</td>\n",
       "      <td>200.00000</td>\n",
       "      <td>2.000000e+02</td>\n",
       "      <td>200.000000</td>\n",
       "      <td>2.000000e+02</td>\n",
       "      <td>200.000000</td>\n",
       "      <td>2.000000e+02</td>\n",
       "      <td>200.000000</td>\n",
       "      <td>2.000000e+02</td>\n",
       "      <td>200.000000</td>\n",
       "      <td>200.000000</td>\n",
       "      <td>200.000000</td>\n",
       "      <td>200.000000</td>\n",
       "      <td>200.000000</td>\n",
       "    </tr>\n",
       "    <tr>\n",
       "      <th>mean</th>\n",
       "      <td>202283.685000</td>\n",
       "      <td>2.874719e+06</td>\n",
       "      <td>28.70000</td>\n",
       "      <td>2.142596e+07</td>\n",
       "      <td>114667.265000</td>\n",
       "      <td>6.907734e+06</td>\n",
       "      <td>5134.850000</td>\n",
       "      <td>2.086848e+07</td>\n",
       "      <td>75112.215000</td>\n",
       "      <td>6.857556e+06</td>\n",
       "      <td>15436.870000</td>\n",
       "      <td>4670.820000</td>\n",
       "      <td>199.715000</td>\n",
       "      <td>4620.655000</td>\n",
       "      <td>198.730000</td>\n",
       "    </tr>\n",
       "    <tr>\n",
       "      <th>std</th>\n",
       "      <td>146.078852</td>\n",
       "      <td>1.032504e+06</td>\n",
       "      <td>10.32244</td>\n",
       "      <td>2.139469e+07</td>\n",
       "      <td>107003.605598</td>\n",
       "      <td>1.185209e+07</td>\n",
       "      <td>7917.868726</td>\n",
       "      <td>2.163656e+07</td>\n",
       "      <td>64084.592644</td>\n",
       "      <td>1.151830e+07</td>\n",
       "      <td>23410.262245</td>\n",
       "      <td>3498.087549</td>\n",
       "      <td>282.124983</td>\n",
       "      <td>3441.088467</td>\n",
       "      <td>279.692558</td>\n",
       "    </tr>\n",
       "    <tr>\n",
       "      <th>min</th>\n",
       "      <td>202011.000000</td>\n",
       "      <td>1.701903e+06</td>\n",
       "      <td>17.00000</td>\n",
       "      <td>7.781612e+04</td>\n",
       "      <td>202.000000</td>\n",
       "      <td>3.000000e+02</td>\n",
       "      <td>1.000000</td>\n",
       "      <td>7.910517e+04</td>\n",
       "      <td>182.000000</td>\n",
       "      <td>4.000000e+02</td>\n",
       "      <td>2.000000</td>\n",
       "      <td>85.000000</td>\n",
       "      <td>1.000000</td>\n",
       "      <td>86.000000</td>\n",
       "      <td>2.000000</td>\n",
       "    </tr>\n",
       "    <tr>\n",
       "      <th>25%</th>\n",
       "      <td>202112.000000</td>\n",
       "      <td>2.111029e+06</td>\n",
       "      <td>21.00000</td>\n",
       "      <td>6.069974e+06</td>\n",
       "      <td>26299.000000</td>\n",
       "      <td>9.467613e+05</td>\n",
       "      <td>791.750000</td>\n",
       "      <td>6.043089e+06</td>\n",
       "      <td>21389.000000</td>\n",
       "      <td>9.712989e+05</td>\n",
       "      <td>1655.500000</td>\n",
       "      <td>2393.750000</td>\n",
       "      <td>57.750000</td>\n",
       "      <td>2361.250000</td>\n",
       "      <td>55.750000</td>\n",
       "    </tr>\n",
       "    <tr>\n",
       "      <th>50%</th>\n",
       "      <td>202304.000000</td>\n",
       "      <td>2.601003e+06</td>\n",
       "      <td>26.00000</td>\n",
       "      <td>1.484926e+07</td>\n",
       "      <td>91097.500000</td>\n",
       "      <td>2.091050e+06</td>\n",
       "      <td>1834.000000</td>\n",
       "      <td>1.453062e+07</td>\n",
       "      <td>58765.000000</td>\n",
       "      <td>2.314636e+06</td>\n",
       "      <td>6038.000000</td>\n",
       "      <td>4085.000000</td>\n",
       "      <td>89.500000</td>\n",
       "      <td>3953.500000</td>\n",
       "      <td>86.000000</td>\n",
       "    </tr>\n",
       "    <tr>\n",
       "      <th>75%</th>\n",
       "      <td>202407.250000</td>\n",
       "      <td>2.807204e+06</td>\n",
       "      <td>28.00000</td>\n",
       "      <td>3.075283e+07</td>\n",
       "      <td>173654.250000</td>\n",
       "      <td>5.464544e+06</td>\n",
       "      <td>5399.000000</td>\n",
       "      <td>2.840154e+07</td>\n",
       "      <td>111122.500000</td>\n",
       "      <td>5.747863e+06</td>\n",
       "      <td>18212.750000</td>\n",
       "      <td>5917.750000</td>\n",
       "      <td>165.750000</td>\n",
       "      <td>5769.250000</td>\n",
       "      <td>165.250000</td>\n",
       "    </tr>\n",
       "    <tr>\n",
       "      <th>max</th>\n",
       "      <td>202509.000000</td>\n",
       "      <td>5.106653e+06</td>\n",
       "      <td>51.00000</td>\n",
       "      <td>1.258532e+08</td>\n",
       "      <td>584865.000000</td>\n",
       "      <td>6.050860e+07</td>\n",
       "      <td>42350.000000</td>\n",
       "      <td>1.291101e+08</td>\n",
       "      <td>374775.000000</td>\n",
       "      <td>6.036497e+07</td>\n",
       "      <td>126547.000000</td>\n",
       "      <td>22410.000000</td>\n",
       "      <td>1665.000000</td>\n",
       "      <td>22242.000000</td>\n",
       "      <td>1618.000000</td>\n",
       "    </tr>\n",
       "  </tbody>\n",
       "</table>\n",
       "</div>"
      ],
      "text/plain": [
       "              AnoMes  Municipio_Ibge  Estado_Ibge  VL_PagadorPF  \\\n",
       "count     200.000000    2.000000e+02    200.00000  2.000000e+02   \n",
       "mean   202283.685000    2.874719e+06     28.70000  2.142596e+07   \n",
       "std       146.078852    1.032504e+06     10.32244  2.139469e+07   \n",
       "min    202011.000000    1.701903e+06     17.00000  7.781612e+04   \n",
       "25%    202112.000000    2.111029e+06     21.00000  6.069974e+06   \n",
       "50%    202304.000000    2.601003e+06     26.00000  1.484926e+07   \n",
       "75%    202407.250000    2.807204e+06     28.00000  3.075283e+07   \n",
       "max    202509.000000    5.106653e+06     51.00000  1.258532e+08   \n",
       "\n",
       "        QT_PagadorPF  VL_PagadorPJ  QT_PagadorPJ  VL_RecebedorPF  \\\n",
       "count     200.000000  2.000000e+02    200.000000    2.000000e+02   \n",
       "mean   114667.265000  6.907734e+06   5134.850000    2.086848e+07   \n",
       "std    107003.605598  1.185209e+07   7917.868726    2.163656e+07   \n",
       "min       202.000000  3.000000e+02      1.000000    7.910517e+04   \n",
       "25%     26299.000000  9.467613e+05    791.750000    6.043089e+06   \n",
       "50%     91097.500000  2.091050e+06   1834.000000    1.453062e+07   \n",
       "75%    173654.250000  5.464544e+06   5399.000000    2.840154e+07   \n",
       "max    584865.000000  6.050860e+07  42350.000000    1.291101e+08   \n",
       "\n",
       "       QT_RecebedorPF  VL_RecebedorPJ  QT_RecebedorPJ  QT_PES_PagadorPF  \\\n",
       "count      200.000000    2.000000e+02      200.000000        200.000000   \n",
       "mean     75112.215000    6.857556e+06    15436.870000       4670.820000   \n",
       "std      64084.592644    1.151830e+07    23410.262245       3498.087549   \n",
       "min        182.000000    4.000000e+02        2.000000         85.000000   \n",
       "25%      21389.000000    9.712989e+05     1655.500000       2393.750000   \n",
       "50%      58765.000000    2.314636e+06     6038.000000       4085.000000   \n",
       "75%     111122.500000    5.747863e+06    18212.750000       5917.750000   \n",
       "max     374775.000000    6.036497e+07   126547.000000      22410.000000   \n",
       "\n",
       "       QT_PES_PagadorPJ  QT_PES_RecebedorPF  QT_PES_RecebedorPJ  \n",
       "count        200.000000          200.000000          200.000000  \n",
       "mean         199.715000         4620.655000          198.730000  \n",
       "std          282.124983         3441.088467          279.692558  \n",
       "min            1.000000           86.000000            2.000000  \n",
       "25%           57.750000         2361.250000           55.750000  \n",
       "50%           89.500000         3953.500000           86.000000  \n",
       "75%          165.750000         5769.250000          165.250000  \n",
       "max         1665.000000        22242.000000         1618.000000  "
      ]
     },
     "execution_count": 100,
     "metadata": {},
     "output_type": "execute_result"
    }
   ],
   "source": [
    "print(df_transacoes.shape)\n",
    "print(df_transacoes.columns)\n",
    "\n",
    "df_transacoes.head(5)\n",
    "\n",
    "df_transacoes.describe()\n"
   ]
  },
  {
   "cell_type": "code",
   "execution_count": 101,
   "id": "bf09f9ec",
   "metadata": {},
   "outputs": [
    {
     "name": "stdout",
     "output_type": "stream",
     "text": [
      "Total de PagadorPF: 22933453\n",
      "Total de PagadorPJ: 1026970\n"
     ]
    }
   ],
   "source": [
    "total_pagador_pf = df_transacoes['QT_PagadorPF'].sum()\n",
    "total_pagador_pj = df_transacoes['QT_PagadorPJ'].sum()\n",
    "\n",
    "print(f\"Total de PagadorPF: {total_pagador_pf}\")\n",
    "print(f\"Total de PagadorPJ: {total_pagador_pj}\")\n"
   ]
  },
  {
   "cell_type": "code",
   "execution_count": 102,
   "id": "fa5ed10b",
   "metadata": {},
   "outputs": [
    {
     "data": {
      "image/png": "[encoded data removed]",
      "text/plain": [
       "<Figure size 640x480 with 1 Axes>"
      ]
     },
     "metadata": {},
     "output_type": "display_data"
    }
   ],
   "source": [
    "tipos = ['PagadorPF', 'PagadorPJ']\n",
    "valores = [total_pagador_pf, total_pagador_pj]\n",
    "\n",
    "plt.bar(tipos, valores, color=['skyblue', 'orange'])\n",
    "plt.title('Total de transações por tipo de pagador')\n",
    "plt.ylabel('Quantidade de transações')\n",
    "plt.show()\n"
   ]
  },
  {
   "cell_type": "code",
   "execution_count": 103,
   "id": "a15e0246",
   "metadata": {},
   "outputs": [
    {
     "data": {
      "application/vnd.microsoft.datawrangler.viewer.v0+json": {
       "columns": [
        {
         "name": "Estado",
         "rawType": "object",
         "type": "string"
        },
        {
         "name": "VL_PagadorPF",
         "rawType": "float64",
         "type": "float"
        },
        {
         "name": "VL_PagadorPJ",
         "rawType": "float64",
         "type": "float"
        }
       ],
       "ref": "21e31bb8-98e4-4a0f-ac1b-a253ace084b3",
       "rows": [
        [
         "ALAGOAS",
         "32209864.180000003",
         "5856632.72"
        ],
        [
         "ESPÍRITO SANTO",
         "6774842.0",
         "3226820.67"
        ],
        [
         "MARANHÃO",
         "1079102064.56",
         "208826573.93"
        ],
        [
         "MATO GROSSO",
         "37568370.62",
         "17192532.87"
        ],
        [
         "MATO GROSSO DO SUL",
         "1304553593.41",
         "609553920.48"
        ],
        [
         "MINAS GERAIS",
         "247184257.31",
         "96674514.96000001"
        ],
        [
         "PARAÍBA",
         "17173692.36",
         "3626847.91"
        ],
        [
         "PERNAMBUCO",
         "1092115540.05",
         "109582136.92"
        ],
        [
         "RIO GRANDE DO SUL",
         "255866919.43",
         "277158888.55"
        ],
        [
         "SERGIPE",
         "53257259.42",
         "8731385.709999999"
        ],
        [
         "SÃO PAULO",
         "7387290.92",
         "8046487.33"
        ],
        [
         "TOCANTINS",
         "151998157.63",
         "33070134.330000002"
        ]
       ],
       "shape": {
        "columns": 2,
        "rows": 12
       }
      },
      "text/html": [
       "<div>\n",
       "<style scoped>\n",
       "    .dataframe tbody tr th:only-of-type {\n",
       "        vertical-align: middle;\n",
       "    }\n",
       "\n",
       "    .dataframe tbody tr th {\n",
       "        vertical-align: top;\n",
       "    }\n",
       "\n",
       "    .dataframe thead th {\n",
       "        text-align: right;\n",
       "    }\n",
       "</style>\n",
       "<table border=\"1\" class=\"dataframe\">\n",
       "  <thead>\n",
       "    <tr style=\"text-align: right;\">\n",
       "      <th></th>\n",
       "      <th>VL_PagadorPF</th>\n",
       "      <th>VL_PagadorPJ</th>\n",
       "    </tr>\n",
       "    <tr>\n",
       "      <th>Estado</th>\n",
       "      <th></th>\n",
       "      <th></th>\n",
       "    </tr>\n",
       "  </thead>\n",
       "  <tbody>\n",
       "    <tr>\n",
       "      <th>ALAGOAS</th>\n",
       "      <td>3.220986e+07</td>\n",
       "      <td>5.856633e+06</td>\n",
       "    </tr>\n",
       "    <tr>\n",
       "      <th>ESPÍRITO SANTO</th>\n",
       "      <td>6.774842e+06</td>\n",
       "      <td>3.226821e+06</td>\n",
       "    </tr>\n",
       "    <tr>\n",
       "      <th>MARANHÃO</th>\n",
       "      <td>1.079102e+09</td>\n",
       "      <td>2.088266e+08</td>\n",
       "    </tr>\n",
       "    <tr>\n",
       "      <th>MATO GROSSO</th>\n",
       "      <td>3.756837e+07</td>\n",
       "      <td>1.719253e+07</td>\n",
       "    </tr>\n",
       "    <tr>\n",
       "      <th>MATO GROSSO DO SUL</th>\n",
       "      <td>1.304554e+09</td>\n",
       "      <td>6.095539e+08</td>\n",
       "    </tr>\n",
       "    <tr>\n",
       "      <th>MINAS GERAIS</th>\n",
       "      <td>2.471843e+08</td>\n",
       "      <td>9.667451e+07</td>\n",
       "    </tr>\n",
       "    <tr>\n",
       "      <th>PARAÍBA</th>\n",
       "      <td>1.717369e+07</td>\n",
       "      <td>3.626848e+06</td>\n",
       "    </tr>\n",
       "    <tr>\n",
       "      <th>PERNAMBUCO</th>\n",
       "      <td>1.092116e+09</td>\n",
       "      <td>1.095821e+08</td>\n",
       "    </tr>\n",
       "    <tr>\n",
       "      <th>RIO GRANDE DO SUL</th>\n",
       "      <td>2.558669e+08</td>\n",
       "      <td>2.771589e+08</td>\n",
       "    </tr>\n",
       "    <tr>\n",
       "      <th>SERGIPE</th>\n",
       "      <td>5.325726e+07</td>\n",
       "      <td>8.731386e+06</td>\n",
       "    </tr>\n",
       "    <tr>\n",
       "      <th>SÃO PAULO</th>\n",
       "      <td>7.387291e+06</td>\n",
       "      <td>8.046487e+06</td>\n",
       "    </tr>\n",
       "    <tr>\n",
       "      <th>TOCANTINS</th>\n",
       "      <td>1.519982e+08</td>\n",
       "      <td>3.307013e+07</td>\n",
       "    </tr>\n",
       "  </tbody>\n",
       "</table>\n",
       "</div>"
      ],
      "text/plain": [
       "                    VL_PagadorPF  VL_PagadorPJ\n",
       "Estado                                        \n",
       "ALAGOAS             3.220986e+07  5.856633e+06\n",
       "ESPÍRITO SANTO      6.774842e+06  3.226821e+06\n",
       "MARANHÃO            1.079102e+09  2.088266e+08\n",
       "MATO GROSSO         3.756837e+07  1.719253e+07\n",
       "MATO GROSSO DO SUL  1.304554e+09  6.095539e+08\n",
       "MINAS GERAIS        2.471843e+08  9.667451e+07\n",
       "PARAÍBA             1.717369e+07  3.626848e+06\n",
       "PERNAMBUCO          1.092116e+09  1.095821e+08\n",
       "RIO GRANDE DO SUL   2.558669e+08  2.771589e+08\n",
       "SERGIPE             5.325726e+07  8.731386e+06\n",
       "SÃO PAULO           7.387291e+06  8.046487e+06\n",
       "TOCANTINS           1.519982e+08  3.307013e+07"
      ]
     },
     "execution_count": 103,
     "metadata": {},
     "output_type": "execute_result"
    }
   ],
   "source": [
    "df_estado = df_transacoes.groupby('Estado')[['VL_PagadorPF','VL_PagadorPJ']].sum()\n",
    "df_estado"
   ]
  },
  {
   "cell_type": "code",
   "execution_count": 104,
   "id": "37adec56",
   "metadata": {},
   "outputs": [],
   "source": [
    "df_transacoes.columns = df_transacoes.columns.str.strip().str.lower()"
   ]
  },
  {
   "cell_type": "code",
   "execution_count": 105,
   "id": "00d19e47",
   "metadata": {},
   "outputs": [
    {
     "data": {
      "image/png": "[encoded data removed]",
      "text/plain": [
       "<Figure size 1000x500 with 1 Axes>"
      ]
     },
     "metadata": {},
     "output_type": "display_data"
    }
   ],
   "source": [
    "df_estado['VL_PagadorPF'].plot(kind='bar', figsize=(10,5), color='skyblue')\n",
    "plt.title('Valor total PagadorPF por Estado')\n",
    "plt.ylabel('Valor (R$)')\n",
    "plt.xlabel('Estado')\n",
    "plt.show()\n"
   ]
  },
  {
   "cell_type": "code",
   "execution_count": 106,
   "id": "f99079af",
   "metadata": {},
   "outputs": [
    {
     "name": "stdout",
     "output_type": "stream",
     "text": [
      "(200, 6)\n",
      "Index(['Data', 'ISPB', 'Nome', 'NaturezaUsuario', 'TipoChave', 'qtdChaves'], dtype='object')\n"
     ]
    },
    {
     "data": {
      "application/vnd.microsoft.datawrangler.viewer.v0+json": {
       "columns": [
        {
         "name": "index",
         "rawType": "object",
         "type": "string"
        },
        {
         "name": "qtdChaves",
         "rawType": "float64",
         "type": "float"
        }
       ],
       "ref": "b6dbed26-6fa4-43ea-b6d1-477cae1bf6e4",
       "rows": [
        [
         "count",
         "200.0"
        ],
        [
         "mean",
         "8821.395"
        ],
        [
         "std",
         "56595.52434227338"
        ],
        [
         "min",
         "1.0"
        ],
        [
         "25%",
         "26.25"
        ],
        [
         "50%",
         "643.5"
        ],
        [
         "75%",
         "2303.5"
        ],
        [
         "max",
         "751819.0"
        ]
       ],
       "shape": {
        "columns": 1,
        "rows": 8
       }
      },
      "text/plain": [
       "count       200.000000\n",
       "mean       8821.395000\n",
       "std       56595.524342\n",
       "min           1.000000\n",
       "25%          26.250000\n",
       "50%         643.500000\n",
       "75%        2303.500000\n",
       "max      751819.000000\n",
       "Name: qtdChaves, dtype: float64"
      ]
     },
     "execution_count": 106,
     "metadata": {},
     "output_type": "execute_result"
    }
   ],
   "source": [
    "print(df_chaves.shape)\n",
    "print(df_chaves.columns)\n",
    "\n",
    "df_chaves.head(5)\n",
    "\n",
    "df_chaves['qtdChaves'].describe()\n"
   ]
  },
  {
   "cell_type": "code",
   "execution_count": 107,
   "id": "6b9739f0",
   "metadata": {},
   "outputs": [
    {
     "data": {
      "application/vnd.microsoft.datawrangler.viewer.v0+json": {
       "columns": [
        {
         "name": "TipoChave",
         "rawType": "object",
         "type": "string"
        },
        {
         "name": "qtdChaves",
         "rawType": "int64",
         "type": "integer"
        }
       ],
       "ref": "a1c694dd-5b8d-4ab0-b350-2c2e4b147ece",
       "rows": [
        [
         "Aleatória",
         "154733"
        ],
        [
         "CNPJ",
         "48284"
        ],
        [
         "CPF",
         "208376"
        ],
        [
         "Celular",
         "313827"
        ],
        [
         "e-mail",
         "1039059"
        ]
       ],
       "shape": {
        "columns": 1,
        "rows": 5
       }
      },
      "text/plain": [
       "TipoChave\n",
       "Aleatória     154733\n",
       "CNPJ           48284\n",
       "CPF           208376\n",
       "Celular       313827\n",
       "e-mail       1039059\n",
       "Name: qtdChaves, dtype: int64"
      ]
     },
     "execution_count": 107,
     "metadata": {},
     "output_type": "execute_result"
    }
   ],
   "source": [
    "chaves_tipo = df_chaves.groupby('TipoChave')['qtdChaves'].sum()\n",
    "chaves_tipo\n"
   ]
  },
  {
   "cell_type": "code",
   "execution_count": 108,
   "id": "a15d05ef",
   "metadata": {},
   "outputs": [
    {
     "data": {
      "image/png": "[encoded data removed]",
      "text/plain": [
       "<Figure size 800x500 with 1 Axes>"
      ]
     },
     "metadata": {},
     "output_type": "display_data"
    }
   ],
   "source": [
    "chaves_tipo.plot(kind='bar', color='lightgreen', figsize=(8,5))\n",
    "plt.title('Quantidade de Chaves Pix por Tipo')\n",
    "plt.ylabel('Quantidade de chaves')\n",
    "plt.xlabel('Tipo de chave')\n",
    "plt.show()\n"
   ]
  },
  {
   "cell_type": "code",
   "execution_count": 109,
   "id": "cf4841d1",
   "metadata": {},
   "outputs": [
    {
     "data": {
      "application/vnd.microsoft.datawrangler.viewer.v0+json": {
       "columns": [
        {
         "name": "NaturezaUsuario",
         "rawType": "object",
         "type": "string"
        },
        {
         "name": "qtdChaves",
         "rawType": "int64",
         "type": "integer"
        }
       ],
       "ref": "23edeb7b-ee05-4ea5-91b8-845fef0d0005",
       "rows": [
        [
         "PF",
         "622752"
        ],
        [
         "PJ",
         "1141527"
        ]
       ],
       "shape": {
        "columns": 1,
        "rows": 2
       }
      },
      "text/plain": [
       "NaturezaUsuario\n",
       "PF     622752\n",
       "PJ    1141527\n",
       "Name: qtdChaves, dtype: int64"
      ]
     },
     "execution_count": 109,
     "metadata": {},
     "output_type": "execute_result"
    }
   ],
   "source": [
    "chaves_natureza = df_chaves.groupby('NaturezaUsuario')['qtdChaves'].sum()\n",
    "chaves_natureza\n"
   ]
  },
  {
   "cell_type": "code",
   "execution_count": 110,
   "id": "2a52a322",
   "metadata": {},
   "outputs": [
    {
     "data": {
      "image/png": "[encoded data removed]",
      "text/plain": [
       "<Figure size 640x480 with 1 Axes>"
      ]
     },
     "metadata": {},
     "output_type": "display_data"
    }
   ],
   "source": [
    "chaves_natureza.plot(kind='pie', autopct='%1.1f%%', startangle=90, colors=['lightblue','orange'])\n",
    "plt.title('Distribuição de chaves por Natureza do Usuário')\n",
    "plt.ylabel('')\n",
    "plt.show()\n"
   ]
  },
  {
   "cell_type": "code",
   "execution_count": 111,
   "id": "105316bf",
   "metadata": {},
   "outputs": [
    {
     "name": "stdout",
     "output_type": "stream",
     "text": [
      "Index(['anomes', 'municipio_ibge', 'municipio', 'estado_ibge', 'estado',\n",
      "       'sigla_regiao', 'regiao', 'vl_pagadorpf', 'qt_pagadorpf',\n",
      "       'vl_pagadorpj', 'qt_pagadorpj', 'vl_recebedorpf', 'qt_recebedorpf',\n",
      "       'vl_recebedorpj', 'qt_recebedorpj', 'qt_pes_pagadorpf',\n",
      "       'qt_pes_pagadorpj', 'qt_pes_recebedorpf', 'qt_pes_recebedorpj'],\n",
      "      dtype='object')\n"
     ]
    }
   ],
   "source": [
    "print(df_transacoes.columns)"
   ]
  },
  {
   "cell_type": "code",
   "execution_count": 112,
   "id": "c13d3828",
   "metadata": {},
   "outputs": [
    {
     "name": "stdout",
     "output_type": "stream",
     "text": [
      "Index(['anomes', 'municipio_ibge', 'municipio', 'estado_ibge', 'estado',\n",
      "       'sigla_regiao', 'regiao', 'vl_pagadorpf', 'qt_pagadorpf',\n",
      "       'vl_pagadorpj', 'qt_pagadorpj', 'vl_recebedorpf', 'qt_recebedorpf',\n",
      "       'vl_recebedorpj', 'qt_recebedorpj', 'qt_pes_pagadorpf',\n",
      "       'qt_pes_pagadorpj', 'qt_pes_recebedorpf', 'qt_pes_recebedorpj'],\n",
      "      dtype='object')\n"
     ]
    }
   ],
   "source": [
    "df_transacoes.columns = df_transacoes.columns.str.strip().str.lower()\n",
    "print(df_transacoes.columns)"
   ]
  },
  {
   "cell_type": "code",
   "execution_count": 113,
   "id": "8a465f47",
   "metadata": {},
   "outputs": [
    {
     "data": {
      "text/plain": [
       "<bound method DataFrame.duplicated of      AnoMes  Municipio_Ibge            Municipio  Estado_Ibge  \\\n",
       "0    202308         1508050              TRAIRÃO           15   \n",
       "1    202109         1508050              TRAIRÃO           15   \n",
       "2    202405         4315701            RIO PARDO           43   \n",
       "3    202110         4315701            RIO PARDO           43   \n",
       "4    202207         3155009             RIO DOCE           31   \n",
       "..      ...             ...                  ...          ...   \n",
       "193  202102         4315701            RIO PARDO           43   \n",
       "196  202503         3304110           PORTO REAL           33   \n",
       "197  202506         4318507    SÃO JOSÉ DO NORTE           43   \n",
       "198  202110         3151206             PIRAPORA           31   \n",
       "199  202501         2101970  BOA VISTA DO GURUPI           21   \n",
       "\n",
       "                Estado Sigla_Regiao    Regiao  VL_PagadorPF  QT_PagadorPF  \\\n",
       "0                 PARÁ           NO     NORTE   39954676.03        228290   \n",
       "1                 PARÁ           NO     NORTE   16022768.65         34458   \n",
       "2    RIO GRANDE DO SUL           SU       SUL   67395295.16        423167   \n",
       "3    RIO GRANDE DO SUL           SU       SUL   19378646.49         66929   \n",
       "4         MINAS GERAIS           SE   SUDESTE    4914638.73         12493   \n",
       "..                 ...          ...       ...           ...           ...   \n",
       "193  RIO GRANDE DO SUL           SU       SUL    4185296.69         11311   \n",
       "196     RIO DE JANEIRO           SE   SUDESTE   64841016.45        474774   \n",
       "197  RIO GRANDE DO SUL           SU       SUL   59908001.89        439592   \n",
       "198       MINAS GERAIS           SE   SUDESTE   54211958.33        211900   \n",
       "199           MARANHÃO           NE  NORDESTE   27861271.27        237502   \n",
       "\n",
       "     VL_PagadorPJ  QT_PagadorPJ  VL_RecebedorPF  QT_RecebedorPF  \\\n",
       "0    2.201700e+07         15718     38752618.78          137622   \n",
       "1    9.527122e+06          4123     14870731.57           26455   \n",
       "2    3.069033e+07         17210     64941105.62          231151   \n",
       "3    4.489667e+06          4567     19775950.87           56006   \n",
       "4    2.859523e+06           951      4025756.79            8762   \n",
       "..            ...           ...             ...             ...   \n",
       "193  5.953613e+05           713      4784603.82           10744   \n",
       "196  1.061975e+09         34116     63837552.42          276555   \n",
       "197  3.833190e+07         25583     59530472.44          224237   \n",
       "198  2.413524e+07         14099     53194479.05          191311   \n",
       "199  3.298657e+06          3132     24748246.07          152361   \n",
       "\n",
       "     VL_RecebedorPJ  QT_RecebedorPJ  QT_PES_PagadorPF  QT_PES_PagadorPJ  \\\n",
       "0      3.482518e+07           48183              7279               400   \n",
       "1      1.040597e+07            7186              3286               236   \n",
       "2      2.423131e+07           43832             17040               872   \n",
       "3      3.556235e+06            7667              8436               460   \n",
       "4      8.533067e+05            1503               891                66   \n",
       "..              ...             ...               ...               ...   \n",
       "193    8.650861e+05             794              2834               140   \n",
       "196    9.365320e+08           77877             12996               871   \n",
       "197    3.014748e+07           88377             13885               934   \n",
       "198    2.325861e+07           24874             19254              1220   \n",
       "199    4.505635e+06           21464              5946                86   \n",
       "\n",
       "     QT_PES_RecebedorPF  QT_PES_RecebedorPJ  \n",
       "0                  7038                 420  \n",
       "1                  3068                 246  \n",
       "2                 16376                 888  \n",
       "3                  7768                 493  \n",
       "4                   887                  66  \n",
       "..                  ...                 ...  \n",
       "193                2848                 184  \n",
       "196               12865                 820  \n",
       "197               13382                 871  \n",
       "198               20317                1249  \n",
       "199                5818                  80  \n",
       "\n",
       "[178 rows x 19 columns]>"
      ]
     },
     "execution_count": 113,
     "metadata": {},
     "output_type": "execute_result"
    }
   ],
   "source": [
    "df_filtrado.duplicated"
   ]
  },
  {
   "cell_type": "code",
   "execution_count": 114,
   "id": "07e56384",
   "metadata": {},
   "outputs": [],
   "source": [
    "df_transacoes = pd.read_json(\"transacoes_pix.json\")"
   ]
  },
  {
   "cell_type": "code",
   "execution_count": 115,
   "id": "0aa0f55a",
   "metadata": {},
   "outputs": [
    {
     "name": "stdout",
     "output_type": "stream",
     "text": [
      "Empty DataFrame\n",
      "Columns: [anomes, municipio_ibge, municipio, estado_ibge, estado, sigla_regiao, regiao, vl_pagadorpf, qt_pagadorpf, vl_pagadorpj, qt_pagadorpj, vl_recebedorpf, qt_recebedorpf, vl_recebedorpj, qt_recebedorpj, qt_pes_pagadorpf, qt_pes_pagadorpj, qt_pes_recebedorpf, qt_pes_recebedorpj]\n",
      "Index: []\n"
     ]
    }
   ],
   "source": [
    "df = pd.read_csv(\"transacoes_pix_estruturadas.csv\")\n",
    "\n",
    "duplicadas_completas = df[df.duplicated(keep=False)]\n",
    "\n",
    "print(duplicadas_completas)\n",
    "duplicadas_completas.to_csv(\"linhas_duplicadas_completas.csv\", index=False)\n"
   ]
  },
  {
   "cell_type": "code",
   "execution_count": 116,
   "id": "36914454",
   "metadata": {},
   "outputs": [
    {
     "name": "stdout",
     "output_type": "stream",
     "text": [
      "Transações Pix - Valores nulos:\n",
      "AnoMes                0\n",
      "Municipio_Ibge        0\n",
      "Municipio             0\n",
      "Estado_Ibge           0\n",
      "Estado                0\n",
      "Sigla_Regiao          0\n",
      "Regiao                0\n",
      "VL_PagadorPF          0\n",
      "QT_PagadorPF          0\n",
      "VL_PagadorPJ          0\n",
      "QT_PagadorPJ          0\n",
      "VL_RecebedorPF        0\n",
      "QT_RecebedorPF        0\n",
      "VL_RecebedorPJ        0\n",
      "QT_RecebedorPJ        0\n",
      "QT_PES_PagadorPF      0\n",
      "QT_PES_PagadorPJ      0\n",
      "QT_PES_RecebedorPF    0\n",
      "QT_PES_RecebedorPJ    0\n",
      "dtype: int64\n",
      "\n",
      "Chaves Pix - Valores nulos:\n",
      "Data               0\n",
      "ISPB               0\n",
      "Nome               0\n",
      "NaturezaUsuario    0\n",
      "TipoChave          0\n",
      "qtdChaves          0\n",
      "dtype: int64\n"
     ]
    }
   ],
   "source": [
    "print(\"Transações Pix - Valores nulos:\")\n",
    "print(df_transacoes.isnull().sum())\n",
    "\n",
    "print(\"\\nChaves Pix - Valores nulos:\")\n",
    "print(df_chaves.isnull().sum())\n"
   ]
  },
  {
   "cell_type": "code",
   "execution_count": 117,
   "id": "0b1c844c",
   "metadata": {},
   "outputs": [
    {
     "name": "stdout",
     "output_type": "stream",
     "text": [
      "AnoMes                  int64\n",
      "Municipio_Ibge          int64\n",
      "Municipio              object\n",
      "Estado_Ibge             int64\n",
      "Estado                 object\n",
      "Sigla_Regiao           object\n",
      "Regiao                 object\n",
      "VL_PagadorPF          float64\n",
      "QT_PagadorPF            int64\n",
      "VL_PagadorPJ          float64\n",
      "QT_PagadorPJ            int64\n",
      "VL_RecebedorPF        float64\n",
      "QT_RecebedorPF          int64\n",
      "VL_RecebedorPJ        float64\n",
      "QT_RecebedorPJ          int64\n",
      "QT_PES_PagadorPF        int64\n",
      "QT_PES_PagadorPJ        int64\n",
      "QT_PES_RecebedorPF      int64\n",
      "QT_PES_RecebedorPJ      int64\n",
      "dtype: object\n",
      "Data               object\n",
      "ISPB               object\n",
      "Nome               object\n",
      "NaturezaUsuario    object\n",
      "TipoChave          object\n",
      "qtdChaves           int64\n",
      "dtype: object\n"
     ]
    }
   ],
   "source": [
    "print(df_transacoes.dtypes)\n",
    "print(df_chaves.dtypes)\n"
   ]
  },
  {
   "cell_type": "code",
   "execution_count": 118,
   "id": "524a7edf",
   "metadata": {},
   "outputs": [],
   "source": [
    "df_transacoes = df_transacoes.rename(columns={\n",
    "    \"AnoMes\": \"ano_mes\",\n",
    "    \"Municipio_Ibge\": \"municipio_ibge\",\n",
    "    \"Municipio\": \"municipio\",\n",
    "    \"Estado\": \"estado\",\n",
    "    \"VL_PagadorPF\": \"valor_pagador_pf\",\n",
    "    \"QT_PagadorPF\": \"qtd_pagador_pf\",\n",
    "    \"VL_PagadorPJ\": \"valor_pagador_pj\",\n",
    "    \"QT_PagadorPJ\": \"qtd_pagador_pj\"\n",
    "})\n",
    "\n",
    "df_chaves = df_chaves.rename(columns={\n",
    "    \"Data\": \"data\",\n",
    "    \"Nome\": \"instituicao\",\n",
    "    \"NaturezaUsuario\": \"natureza_usuario\",\n",
    "    \"TipoChave\": \"tipo_chave\",\n",
    "    \"qtdChaves\": \"qtd_chaves\"\n",
    "})\n"
   ]
  },
  {
   "cell_type": "code",
   "execution_count": 119,
   "id": "3372787b",
   "metadata": {},
   "outputs": [],
   "source": [
    "df_transacoes.columns = [col.lower() for col in df_transacoes.columns]\n",
    "df_chaves.columns = [col.lower() for col in df_chaves.columns]\n"
   ]
  },
  {
   "cell_type": "code",
   "execution_count": 120,
   "id": "035b64f5",
   "metadata": {},
   "outputs": [
    {
     "name": "stdout",
     "output_type": "stream",
     "text": [
      "Total de Transações PF: 22933453\n",
      "Total de Transações PJ: 1026970\n",
      "Total de Chaves Pix: 1764279\n"
     ]
    }
   ],
   "source": [
    "print(\"Total de Transações PF:\", df_transacoes['qtd_pagador_pf'].sum())\n",
    "print(\"Total de Transações PJ:\", df_transacoes['qtd_pagador_pj'].sum())\n",
    "print(\"Total de Chaves Pix:\", df_chaves['qtd_chaves'].sum())\n"
   ]
  },
  {
   "cell_type": "code",
   "execution_count": 121,
   "id": "54be4be2",
   "metadata": {},
   "outputs": [
    {
     "data": {
      "application/vnd.microsoft.datawrangler.viewer.v0+json": {
       "columns": [
        {
         "name": "estado",
         "rawType": "object",
         "type": "string"
        },
        {
         "name": "valor_pagador_pf",
         "rawType": "float64",
         "type": "float"
        },
        {
         "name": "valor_pagador_pj",
         "rawType": "float64",
         "type": "float"
        }
       ],
       "ref": "b841d119-6c20-4eb9-9930-21b591a86099",
       "rows": [
        [
         "ALAGOAS",
         "32209864.180000003",
         "5856632.72"
        ],
        [
         "ESPÍRITO SANTO",
         "6774842.0",
         "3226820.67"
        ],
        [
         "MARANHÃO",
         "1079102064.56",
         "208826573.93"
        ],
        [
         "MATO GROSSO",
         "37568370.62",
         "17192532.87"
        ],
        [
         "MATO GROSSO DO SUL",
         "1304553593.41",
         "609553920.48"
        ]
       ],
       "shape": {
        "columns": 2,
        "rows": 5
       }
      },
      "text/html": [
       "<div>\n",
       "<style scoped>\n",
       "    .dataframe tbody tr th:only-of-type {\n",
       "        vertical-align: middle;\n",
       "    }\n",
       "\n",
       "    .dataframe tbody tr th {\n",
       "        vertical-align: top;\n",
       "    }\n",
       "\n",
       "    .dataframe thead th {\n",
       "        text-align: right;\n",
       "    }\n",
       "</style>\n",
       "<table border=\"1\" class=\"dataframe\">\n",
       "  <thead>\n",
       "    <tr style=\"text-align: right;\">\n",
       "      <th></th>\n",
       "      <th>valor_pagador_pf</th>\n",
       "      <th>valor_pagador_pj</th>\n",
       "    </tr>\n",
       "    <tr>\n",
       "      <th>estado</th>\n",
       "      <th></th>\n",
       "      <th></th>\n",
       "    </tr>\n",
       "  </thead>\n",
       "  <tbody>\n",
       "    <tr>\n",
       "      <th>ALAGOAS</th>\n",
       "      <td>3.220986e+07</td>\n",
       "      <td>5.856633e+06</td>\n",
       "    </tr>\n",
       "    <tr>\n",
       "      <th>ESPÍRITO SANTO</th>\n",
       "      <td>6.774842e+06</td>\n",
       "      <td>3.226821e+06</td>\n",
       "    </tr>\n",
       "    <tr>\n",
       "      <th>MARANHÃO</th>\n",
       "      <td>1.079102e+09</td>\n",
       "      <td>2.088266e+08</td>\n",
       "    </tr>\n",
       "    <tr>\n",
       "      <th>MATO GROSSO</th>\n",
       "      <td>3.756837e+07</td>\n",
       "      <td>1.719253e+07</td>\n",
       "    </tr>\n",
       "    <tr>\n",
       "      <th>MATO GROSSO DO SUL</th>\n",
       "      <td>1.304554e+09</td>\n",
       "      <td>6.095539e+08</td>\n",
       "    </tr>\n",
       "  </tbody>\n",
       "</table>\n",
       "</div>"
      ],
      "text/plain": [
       "                    valor_pagador_pf  valor_pagador_pj\n",
       "estado                                                \n",
       "ALAGOAS                 3.220986e+07      5.856633e+06\n",
       "ESPÍRITO SANTO          6.774842e+06      3.226821e+06\n",
       "MARANHÃO                1.079102e+09      2.088266e+08\n",
       "MATO GROSSO             3.756837e+07      1.719253e+07\n",
       "MATO GROSSO DO SUL      1.304554e+09      6.095539e+08"
      ]
     },
     "execution_count": 121,
     "metadata": {},
     "output_type": "execute_result"
    }
   ],
   "source": [
    "df_estado = df_transacoes.groupby(\"estado\")[[\"valor_pagador_pf\", \"valor_pagador_pj\"]].sum()\n",
    "df_estado.head()"
   ]
  },
  {
   "cell_type": "code",
   "execution_count": 122,
   "id": "46bea4aa",
   "metadata": {},
   "outputs": [],
   "source": [
    "df_transacoes.columns = [c.lower() for c in df_transacoes.columns]\n",
    "\n",
    "df_transacoes['municipio'] = df_transacoes['municipio'].str.title()\n",
    "df_transacoes['estado'] = df_transacoes['estado'].str.upper()\n"
   ]
  },
  {
   "cell_type": "code",
   "execution_count": 123,
   "id": "0be6e871",
   "metadata": {},
   "outputs": [
    {
     "name": "stdout",
     "output_type": "stream",
     "text": [
      "<class 'pandas.core.frame.DataFrame'>\n",
      "RangeIndex: 200 entries, 0 to 199\n",
      "Data columns (total 19 columns):\n",
      " #   Column              Non-Null Count  Dtype  \n",
      "---  ------              --------------  -----  \n",
      " 0   ano_mes             200 non-null    int64  \n",
      " 1   municipio_ibge      200 non-null    int64  \n",
      " 2   municipio           200 non-null    object \n",
      " 3   estado_ibge         200 non-null    int64  \n",
      " 4   estado              200 non-null    object \n",
      " 5   sigla_regiao        200 non-null    object \n",
      " 6   regiao              200 non-null    object \n",
      " 7   valor_pagador_pf    200 non-null    float64\n",
      " 8   qtd_pagador_pf      200 non-null    int64  \n",
      " 9   valor_pagador_pj    200 non-null    float64\n",
      " 10  qtd_pagador_pj      200 non-null    int64  \n",
      " 11  vl_recebedorpf      200 non-null    float64\n",
      " 12  qt_recebedorpf      200 non-null    int64  \n",
      " 13  vl_recebedorpj      200 non-null    float64\n",
      " 14  qt_recebedorpj      200 non-null    int64  \n",
      " 15  qt_pes_pagadorpf    200 non-null    int64  \n",
      " 16  qt_pes_pagadorpj    200 non-null    int64  \n",
      " 17  qt_pes_recebedorpf  200 non-null    int64  \n",
      " 18  qt_pes_recebedorpj  200 non-null    int64  \n",
      "dtypes: float64(4), int64(11), object(4)\n",
      "memory usage: 29.8+ KB\n"
     ]
    },
    {
     "data": {
      "application/vnd.microsoft.datawrangler.viewer.v0+json": {
       "columns": [
        {
         "name": "index",
         "rawType": "int64",
         "type": "integer"
        },
        {
         "name": "ano_mes",
         "rawType": "int64",
         "type": "integer"
        },
        {
         "name": "municipio_ibge",
         "rawType": "int64",
         "type": "integer"
        },
        {
         "name": "municipio",
         "rawType": "object",
         "type": "string"
        },
        {
         "name": "estado_ibge",
         "rawType": "int64",
         "type": "integer"
        },
        {
         "name": "estado",
         "rawType": "object",
         "type": "string"
        },
        {
         "name": "sigla_regiao",
         "rawType": "object",
         "type": "string"
        },
        {
         "name": "regiao",
         "rawType": "object",
         "type": "string"
        },
        {
         "name": "valor_pagador_pf",
         "rawType": "float64",
         "type": "float"
        },
        {
         "name": "qtd_pagador_pf",
         "rawType": "int64",
         "type": "integer"
        },
        {
         "name": "valor_pagador_pj",
         "rawType": "float64",
         "type": "float"
        },
        {
         "name": "qtd_pagador_pj",
         "rawType": "int64",
         "type": "integer"
        },
        {
         "name": "vl_recebedorpf",
         "rawType": "float64",
         "type": "float"
        },
        {
         "name": "qt_recebedorpf",
         "rawType": "int64",
         "type": "integer"
        },
        {
         "name": "vl_recebedorpj",
         "rawType": "float64",
         "type": "float"
        },
        {
         "name": "qt_recebedorpj",
         "rawType": "int64",
         "type": "integer"
        },
        {
         "name": "qt_pes_pagadorpf",
         "rawType": "int64",
         "type": "integer"
        },
        {
         "name": "qt_pes_pagadorpj",
         "rawType": "int64",
         "type": "integer"
        },
        {
         "name": "qt_pes_recebedorpf",
         "rawType": "int64",
         "type": "integer"
        },
        {
         "name": "qt_pes_recebedorpj",
         "rawType": "int64",
         "type": "integer"
        }
       ],
       "ref": "b69a3f89-de31-4931-938b-082ff3fc7eba",
       "rows": [
        [
         "0",
         "202202",
         "2604304",
         "Cedro",
         "26",
         "PERNAMBUCO",
         "NE",
         "NORDESTE",
         "8671955.89",
         "41908",
         "1037543.56",
         "796",
         "8400211.51",
         "35966",
         "1114567.27",
         "2260",
         "3339",
         "68",
         "3351",
         "72"
        ],
        [
         "1",
         "202309",
         "2604304",
         "Cedro",
         "26",
         "PERNAMBUCO",
         "NE",
         "NORDESTE",
         "21712918.56",
         "143723",
         "3360010.27",
         "2183",
         "20799003.54",
         "104352",
         "4303659.61",
         "7945",
         "5631",
         "106",
         "5487",
         "115"
        ],
        [
         "2",
         "202509",
         "2604304",
         "Cedro",
         "26",
         "PERNAMBUCO",
         "NE",
         "NORDESTE",
         "4524066.98",
         "27084",
         "398174.97",
         "933",
         "4254170.88",
         "17912",
         "725528.66",
         "3400",
         "5028",
         "103",
         "3998",
         "121"
        ],
        [
         "3",
         "202208",
         "5002902",
         "Cassilândia",
         "50",
         "MATO GROSSO DO SUL",
         "CO",
         "CENTRO-OESTE",
         "47907459.4",
         "124901",
         "24035863.87",
         "11845",
         "41591859.67",
         "102074",
         "23533438.19",
         "28051",
         "9240",
         "658",
         "9187",
         "671"
        ],
        [
         "4",
         "202106",
         "2102077",
         "Bom Lugar",
         "21",
         "MARANHÃO",
         "NE",
         "NORDESTE",
         "2765226.89",
         "8430",
         "626668.16",
         "184",
         "3196409.32",
         "8861",
         "63044.9",
         "226",
         "1215",
         "30",
         "1201",
         "22"
        ]
       ],
       "shape": {
        "columns": 19,
        "rows": 5
       }
      },
      "text/html": [
       "<div>\n",
       "<style scoped>\n",
       "    .dataframe tbody tr th:only-of-type {\n",
       "        vertical-align: middle;\n",
       "    }\n",
       "\n",
       "    .dataframe tbody tr th {\n",
       "        vertical-align: top;\n",
       "    }\n",
       "\n",
       "    .dataframe thead th {\n",
       "        text-align: right;\n",
       "    }\n",
       "</style>\n",
       "<table border=\"1\" class=\"dataframe\">\n",
       "  <thead>\n",
       "    <tr style=\"text-align: right;\">\n",
       "      <th></th>\n",
       "      <th>ano_mes</th>\n",
       "      <th>municipio_ibge</th>\n",
       "      <th>municipio</th>\n",
       "      <th>estado_ibge</th>\n",
       "      <th>estado</th>\n",
       "      <th>sigla_regiao</th>\n",
       "      <th>regiao</th>\n",
       "      <th>valor_pagador_pf</th>\n",
       "      <th>qtd_pagador_pf</th>\n",
       "      <th>valor_pagador_pj</th>\n",
       "      <th>qtd_pagador_pj</th>\n",
       "      <th>vl_recebedorpf</th>\n",
       "      <th>qt_recebedorpf</th>\n",
       "      <th>vl_recebedorpj</th>\n",
       "      <th>qt_recebedorpj</th>\n",
       "      <th>qt_pes_pagadorpf</th>\n",
       "      <th>qt_pes_pagadorpj</th>\n",
       "      <th>qt_pes_recebedorpf</th>\n",
       "      <th>qt_pes_recebedorpj</th>\n",
       "    </tr>\n",
       "  </thead>\n",
       "  <tbody>\n",
       "    <tr>\n",
       "      <th>0</th>\n",
       "      <td>202202</td>\n",
       "      <td>2604304</td>\n",
       "      <td>Cedro</td>\n",
       "      <td>26</td>\n",
       "      <td>PERNAMBUCO</td>\n",
       "      <td>NE</td>\n",
       "      <td>NORDESTE</td>\n",
       "      <td>8671955.89</td>\n",
       "      <td>41908</td>\n",
       "      <td>1037543.56</td>\n",
       "      <td>796</td>\n",
       "      <td>8400211.51</td>\n",
       "      <td>35966</td>\n",
       "      <td>1114567.27</td>\n",
       "      <td>2260</td>\n",
       "      <td>3339</td>\n",
       "      <td>68</td>\n",
       "      <td>3351</td>\n",
       "      <td>72</td>\n",
       "    </tr>\n",
       "    <tr>\n",
       "      <th>1</th>\n",
       "      <td>202309</td>\n",
       "      <td>2604304</td>\n",
       "      <td>Cedro</td>\n",
       "      <td>26</td>\n",
       "      <td>PERNAMBUCO</td>\n",
       "      <td>NE</td>\n",
       "      <td>NORDESTE</td>\n",
       "      <td>21712918.56</td>\n",
       "      <td>143723</td>\n",
       "      <td>3360010.27</td>\n",
       "      <td>2183</td>\n",
       "      <td>20799003.54</td>\n",
       "      <td>104352</td>\n",
       "      <td>4303659.61</td>\n",
       "      <td>7945</td>\n",
       "      <td>5631</td>\n",
       "      <td>106</td>\n",
       "      <td>5487</td>\n",
       "      <td>115</td>\n",
       "    </tr>\n",
       "    <tr>\n",
       "      <th>2</th>\n",
       "      <td>202509</td>\n",
       "      <td>2604304</td>\n",
       "      <td>Cedro</td>\n",
       "      <td>26</td>\n",
       "      <td>PERNAMBUCO</td>\n",
       "      <td>NE</td>\n",
       "      <td>NORDESTE</td>\n",
       "      <td>4524066.98</td>\n",
       "      <td>27084</td>\n",
       "      <td>398174.97</td>\n",
       "      <td>933</td>\n",
       "      <td>4254170.88</td>\n",
       "      <td>17912</td>\n",
       "      <td>725528.66</td>\n",
       "      <td>3400</td>\n",
       "      <td>5028</td>\n",
       "      <td>103</td>\n",
       "      <td>3998</td>\n",
       "      <td>121</td>\n",
       "    </tr>\n",
       "    <tr>\n",
       "      <th>3</th>\n",
       "      <td>202208</td>\n",
       "      <td>5002902</td>\n",
       "      <td>Cassilândia</td>\n",
       "      <td>50</td>\n",
       "      <td>MATO GROSSO DO SUL</td>\n",
       "      <td>CO</td>\n",
       "      <td>CENTRO-OESTE</td>\n",
       "      <td>47907459.40</td>\n",
       "      <td>124901</td>\n",
       "      <td>24035863.87</td>\n",
       "      <td>11845</td>\n",
       "      <td>41591859.67</td>\n",
       "      <td>102074</td>\n",
       "      <td>23533438.19</td>\n",
       "      <td>28051</td>\n",
       "      <td>9240</td>\n",
       "      <td>658</td>\n",
       "      <td>9187</td>\n",
       "      <td>671</td>\n",
       "    </tr>\n",
       "    <tr>\n",
       "      <th>4</th>\n",
       "      <td>202106</td>\n",
       "      <td>2102077</td>\n",
       "      <td>Bom Lugar</td>\n",
       "      <td>21</td>\n",
       "      <td>MARANHÃO</td>\n",
       "      <td>NE</td>\n",
       "      <td>NORDESTE</td>\n",
       "      <td>2765226.89</td>\n",
       "      <td>8430</td>\n",
       "      <td>626668.16</td>\n",
       "      <td>184</td>\n",
       "      <td>3196409.32</td>\n",
       "      <td>8861</td>\n",
       "      <td>63044.90</td>\n",
       "      <td>226</td>\n",
       "      <td>1215</td>\n",
       "      <td>30</td>\n",
       "      <td>1201</td>\n",
       "      <td>22</td>\n",
       "    </tr>\n",
       "  </tbody>\n",
       "</table>\n",
       "</div>"
      ],
      "text/plain": [
       "   ano_mes  municipio_ibge    municipio  estado_ibge              estado  \\\n",
       "0   202202         2604304        Cedro           26          PERNAMBUCO   \n",
       "1   202309         2604304        Cedro           26          PERNAMBUCO   \n",
       "2   202509         2604304        Cedro           26          PERNAMBUCO   \n",
       "3   202208         5002902  Cassilândia           50  MATO GROSSO DO SUL   \n",
       "4   202106         2102077    Bom Lugar           21            MARANHÃO   \n",
       "\n",
       "  sigla_regiao        regiao  valor_pagador_pf  qtd_pagador_pf  \\\n",
       "0           NE      NORDESTE        8671955.89           41908   \n",
       "1           NE      NORDESTE       21712918.56          143723   \n",
       "2           NE      NORDESTE        4524066.98           27084   \n",
       "3           CO  CENTRO-OESTE       47907459.40          124901   \n",
       "4           NE      NORDESTE        2765226.89            8430   \n",
       "\n",
       "   valor_pagador_pj  qtd_pagador_pj  vl_recebedorpf  qt_recebedorpf  \\\n",
       "0        1037543.56             796      8400211.51           35966   \n",
       "1        3360010.27            2183     20799003.54          104352   \n",
       "2         398174.97             933      4254170.88           17912   \n",
       "3       24035863.87           11845     41591859.67          102074   \n",
       "4         626668.16             184      3196409.32            8861   \n",
       "\n",
       "   vl_recebedorpj  qt_recebedorpj  qt_pes_pagadorpf  qt_pes_pagadorpj  \\\n",
       "0      1114567.27            2260              3339                68   \n",
       "1      4303659.61            7945              5631               106   \n",
       "2       725528.66            3400              5028               103   \n",
       "3     23533438.19           28051              9240               658   \n",
       "4        63044.90             226              1215                30   \n",
       "\n",
       "   qt_pes_recebedorpf  qt_pes_recebedorpj  \n",
       "0                3351                  72  \n",
       "1                5487                 115  \n",
       "2                3998                 121  \n",
       "3                9187                 671  \n",
       "4                1201                  22  "
      ]
     },
     "execution_count": 123,
     "metadata": {},
     "output_type": "execute_result"
    }
   ],
   "source": [
    "df_transacoes.info()\n",
    "df_transacoes.head()"
   ]
  },
  {
   "cell_type": "code",
   "execution_count": 124,
   "id": "b04b1e47",
   "metadata": {},
   "outputs": [],
   "source": [
    "df_transacoes.to_csv(\"transacoes_pix.csv\", index=False, encoding=\"utf-8\")\n",
    "df_chaves.to_csv(\"chaves_pix.csv\", index=False, encoding=\"utf-8\")\n"
   ]
  }
 ],
 "metadata": {
  "kernelspec": {
   "display_name": ".venv",
   "language": "python",
   "name": "python3"
  },
  "language_info": {
   "codemirror_mode": {
    "name": "ipython",
    "version": 3
   },
   "file_extension": ".py",
   "mimetype": "text/x-python",
   "name": "python",
   "nbconvert_exporter": "python",
   "pygments_lexer": "ipython3",
   "version": "3.11.9"
  }
 },
 "nbformat": 4,
 "nbformat_minor": 5
}
